{
 "cells": [
  {
   "cell_type": "code",
   "execution_count": 1,
   "metadata": {},
   "outputs": [],
   "source": [
    "import numpy as np \n",
    "import pandas as pd\n",
    "import matplotlib\n",
    "import seaborn as sns\n",
    "from matplotlib import pyplot as plt\n",
    "from subprocess import check_output\n",
    "from matplotlib.ticker import FuncFormatter\n",
    "%matplotlib inline"
   ]
  },
  {
   "cell_type": "code",
   "execution_count": 2,
   "metadata": {},
   "outputs": [],
   "source": [
    "df = pd.read_csv('us_perm_visas.csv', low_memory = False, parse_dates=['decision_date', 'case_received_date'])"
   ]
  },
  {
   "cell_type": "code",
   "execution_count": 3,
   "metadata": {},
   "outputs": [
    {
     "name": "stdout",
     "output_type": "stream",
     "text": [
      "Number of Visa Applications: 374362\n",
      "Number of Columns: 154\n"
     ]
    }
   ],
   "source": [
    "# Displaying number of rows and columns\n",
    "print('Number of Visa Applications:', len(df))\n",
    "print('Number of Columns:', len(df.columns))"
   ]
  },
  {
   "cell_type": "code",
   "execution_count": 4,
   "metadata": {},
   "outputs": [],
   "source": [
    "        #df.filter(items=['application_type', 'case_no', 'case_status', 'class_of_admission', 'economic_sector', 'wage_offer_from_9089', 'country_of_citizenship'])"
   ]
  },
  {
   "cell_type": "code",
   "execution_count": 5,
   "metadata": {},
   "outputs": [
    {
     "data": {
      "text/html": [
       "<div>\n",
       "<style scoped>\n",
       "    .dataframe tbody tr th:only-of-type {\n",
       "        vertical-align: middle;\n",
       "    }\n",
       "\n",
       "    .dataframe tbody tr th {\n",
       "        vertical-align: top;\n",
       "    }\n",
       "\n",
       "    .dataframe thead th {\n",
       "        text-align: right;\n",
       "    }\n",
       "</style>\n",
       "<table border=\"1\" class=\"dataframe\">\n",
       "  <thead>\n",
       "    <tr style=\"text-align: right;\">\n",
       "      <th></th>\n",
       "      <th>add_these_pw_job_title_9089</th>\n",
       "      <th>agent_city</th>\n",
       "      <th>agent_firm_name</th>\n",
       "      <th>agent_state</th>\n",
       "      <th>application_type</th>\n",
       "      <th>case_no</th>\n",
       "      <th>case_number</th>\n",
       "      <th>case_received_date</th>\n",
       "      <th>case_status</th>\n",
       "      <th>class_of_admission</th>\n",
       "      <th>...</th>\n",
       "      <th>ri_pvt_employment_firm_to</th>\n",
       "      <th>ri_us_workers_considered</th>\n",
       "      <th>schd_a_sheepherder</th>\n",
       "      <th>us_economic_sector</th>\n",
       "      <th>wage_offer_from_9089</th>\n",
       "      <th>wage_offer_to_9089</th>\n",
       "      <th>wage_offer_unit_of_pay_9089</th>\n",
       "      <th>wage_offered_from_9089</th>\n",
       "      <th>wage_offered_to_9089</th>\n",
       "      <th>wage_offered_unit_of_pay_9089</th>\n",
       "    </tr>\n",
       "  </thead>\n",
       "  <tbody>\n",
       "    <tr>\n",
       "      <th>0</th>\n",
       "      <td>NaN</td>\n",
       "      <td>NaN</td>\n",
       "      <td>NaN</td>\n",
       "      <td>NaN</td>\n",
       "      <td>PERM</td>\n",
       "      <td>A-07323-97014</td>\n",
       "      <td>NaN</td>\n",
       "      <td>NaT</td>\n",
       "      <td>Certified</td>\n",
       "      <td>J-1</td>\n",
       "      <td>...</td>\n",
       "      <td>NaN</td>\n",
       "      <td>NaN</td>\n",
       "      <td>NaN</td>\n",
       "      <td>IT</td>\n",
       "      <td>75629.0</td>\n",
       "      <td>NaN</td>\n",
       "      <td>yr</td>\n",
       "      <td>NaN</td>\n",
       "      <td>NaN</td>\n",
       "      <td>NaN</td>\n",
       "    </tr>\n",
       "    <tr>\n",
       "      <th>1</th>\n",
       "      <td>NaN</td>\n",
       "      <td>NaN</td>\n",
       "      <td>NaN</td>\n",
       "      <td>NaN</td>\n",
       "      <td>PERM</td>\n",
       "      <td>A-07332-99439</td>\n",
       "      <td>NaN</td>\n",
       "      <td>NaT</td>\n",
       "      <td>Denied</td>\n",
       "      <td>B-2</td>\n",
       "      <td>...</td>\n",
       "      <td>NaN</td>\n",
       "      <td>NaN</td>\n",
       "      <td>NaN</td>\n",
       "      <td>Other Economic Sector</td>\n",
       "      <td>37024.0</td>\n",
       "      <td>NaN</td>\n",
       "      <td>yr</td>\n",
       "      <td>NaN</td>\n",
       "      <td>NaN</td>\n",
       "      <td>NaN</td>\n",
       "    </tr>\n",
       "    <tr>\n",
       "      <th>2</th>\n",
       "      <td>NaN</td>\n",
       "      <td>NaN</td>\n",
       "      <td>NaN</td>\n",
       "      <td>NaN</td>\n",
       "      <td>PERM</td>\n",
       "      <td>A-07333-99643</td>\n",
       "      <td>NaN</td>\n",
       "      <td>NaT</td>\n",
       "      <td>Certified</td>\n",
       "      <td>H-1B</td>\n",
       "      <td>...</td>\n",
       "      <td>NaN</td>\n",
       "      <td>NaN</td>\n",
       "      <td>NaN</td>\n",
       "      <td>Aerospace</td>\n",
       "      <td>47923.0</td>\n",
       "      <td>NaN</td>\n",
       "      <td>yr</td>\n",
       "      <td>NaN</td>\n",
       "      <td>NaN</td>\n",
       "      <td>NaN</td>\n",
       "    </tr>\n",
       "    <tr>\n",
       "      <th>3</th>\n",
       "      <td>NaN</td>\n",
       "      <td>NaN</td>\n",
       "      <td>NaN</td>\n",
       "      <td>NaN</td>\n",
       "      <td>PERM</td>\n",
       "      <td>A-07339-01930</td>\n",
       "      <td>NaN</td>\n",
       "      <td>NaT</td>\n",
       "      <td>Certified</td>\n",
       "      <td>B-2</td>\n",
       "      <td>...</td>\n",
       "      <td>NaN</td>\n",
       "      <td>NaN</td>\n",
       "      <td>NaN</td>\n",
       "      <td>Other Economic Sector</td>\n",
       "      <td>10.97</td>\n",
       "      <td>NaN</td>\n",
       "      <td>hr</td>\n",
       "      <td>NaN</td>\n",
       "      <td>NaN</td>\n",
       "      <td>NaN</td>\n",
       "    </tr>\n",
       "    <tr>\n",
       "      <th>4</th>\n",
       "      <td>NaN</td>\n",
       "      <td>NaN</td>\n",
       "      <td>NaN</td>\n",
       "      <td>NaN</td>\n",
       "      <td>PERM</td>\n",
       "      <td>A-07345-03565</td>\n",
       "      <td>NaN</td>\n",
       "      <td>NaT</td>\n",
       "      <td>Certified</td>\n",
       "      <td>L-1</td>\n",
       "      <td>...</td>\n",
       "      <td>NaN</td>\n",
       "      <td>NaN</td>\n",
       "      <td>NaN</td>\n",
       "      <td>Advanced Mfg</td>\n",
       "      <td>100000.0</td>\n",
       "      <td>NaN</td>\n",
       "      <td>yr</td>\n",
       "      <td>NaN</td>\n",
       "      <td>NaN</td>\n",
       "      <td>NaN</td>\n",
       "    </tr>\n",
       "  </tbody>\n",
       "</table>\n",
       "<p>5 rows × 154 columns</p>\n",
       "</div>"
      ],
      "text/plain": [
       "  add_these_pw_job_title_9089 agent_city agent_firm_name agent_state  \\\n",
       "0                         NaN        NaN             NaN         NaN   \n",
       "1                         NaN        NaN             NaN         NaN   \n",
       "2                         NaN        NaN             NaN         NaN   \n",
       "3                         NaN        NaN             NaN         NaN   \n",
       "4                         NaN        NaN             NaN         NaN   \n",
       "\n",
       "  application_type        case_no case_number case_received_date case_status  \\\n",
       "0             PERM  A-07323-97014         NaN                NaT   Certified   \n",
       "1             PERM  A-07332-99439         NaN                NaT      Denied   \n",
       "2             PERM  A-07333-99643         NaN                NaT   Certified   \n",
       "3             PERM  A-07339-01930         NaN                NaT   Certified   \n",
       "4             PERM  A-07345-03565         NaN                NaT   Certified   \n",
       "\n",
       "  class_of_admission              ...               ri_pvt_employment_firm_to  \\\n",
       "0                J-1              ...                                     NaN   \n",
       "1                B-2              ...                                     NaN   \n",
       "2               H-1B              ...                                     NaN   \n",
       "3                B-2              ...                                     NaN   \n",
       "4                L-1              ...                                     NaN   \n",
       "\n",
       "  ri_us_workers_considered schd_a_sheepherder     us_economic_sector  \\\n",
       "0                      NaN                NaN                     IT   \n",
       "1                      NaN                NaN  Other Economic Sector   \n",
       "2                      NaN                NaN              Aerospace   \n",
       "3                      NaN                NaN  Other Economic Sector   \n",
       "4                      NaN                NaN           Advanced Mfg   \n",
       "\n",
       "  wage_offer_from_9089 wage_offer_to_9089 wage_offer_unit_of_pay_9089  \\\n",
       "0              75629.0                NaN                          yr   \n",
       "1              37024.0                NaN                          yr   \n",
       "2              47923.0                NaN                          yr   \n",
       "3                10.97                NaN                          hr   \n",
       "4             100000.0                NaN                          yr   \n",
       "\n",
       "  wage_offered_from_9089 wage_offered_to_9089  wage_offered_unit_of_pay_9089  \n",
       "0                    NaN                  NaN                            NaN  \n",
       "1                    NaN                  NaN                            NaN  \n",
       "2                    NaN                  NaN                            NaN  \n",
       "3                    NaN                  NaN                            NaN  \n",
       "4                    NaN                  NaN                            NaN  \n",
       "\n",
       "[5 rows x 154 columns]"
      ]
     },
     "execution_count": 5,
     "metadata": {},
     "output_type": "execute_result"
    }
   ],
   "source": [
    "df.head()"
   ]
  },
  {
   "cell_type": "code",
   "execution_count": 6,
   "metadata": {},
   "outputs": [
    {
     "data": {
      "text/html": [
       "<div>\n",
       "<style scoped>\n",
       "    .dataframe tbody tr th:only-of-type {\n",
       "        vertical-align: middle;\n",
       "    }\n",
       "\n",
       "    .dataframe tbody tr th {\n",
       "        vertical-align: top;\n",
       "    }\n",
       "\n",
       "    .dataframe thead th {\n",
       "        text-align: right;\n",
       "    }\n",
       "</style>\n",
       "<table border=\"1\" class=\"dataframe\">\n",
       "  <thead>\n",
       "    <tr style=\"text-align: right;\">\n",
       "      <th></th>\n",
       "      <th>add_these_pw_job_title_9089</th>\n",
       "      <th>agent_city</th>\n",
       "      <th>agent_firm_name</th>\n",
       "      <th>agent_state</th>\n",
       "      <th>application_type</th>\n",
       "      <th>case_no</th>\n",
       "      <th>case_number</th>\n",
       "      <th>case_received_date</th>\n",
       "      <th>case_status</th>\n",
       "      <th>class_of_admission</th>\n",
       "      <th>...</th>\n",
       "      <th>ri_pvt_employment_firm_to</th>\n",
       "      <th>ri_us_workers_considered</th>\n",
       "      <th>schd_a_sheepherder</th>\n",
       "      <th>us_economic_sector</th>\n",
       "      <th>wage_offer_from_9089</th>\n",
       "      <th>wage_offer_to_9089</th>\n",
       "      <th>wage_offer_unit_of_pay_9089</th>\n",
       "      <th>wage_offered_from_9089</th>\n",
       "      <th>wage_offered_to_9089</th>\n",
       "      <th>wage_offered_unit_of_pay_9089</th>\n",
       "    </tr>\n",
       "  </thead>\n",
       "  <tbody>\n",
       "    <tr>\n",
       "      <th>374357</th>\n",
       "      <td>NaN</td>\n",
       "      <td>Buena Park</td>\n",
       "      <td>Law Offices of Yohan Lee</td>\n",
       "      <td>CA</td>\n",
       "      <td>NaN</td>\n",
       "      <td>NaN</td>\n",
       "      <td>A-16363-85407</td>\n",
       "      <td>2016-12-29</td>\n",
       "      <td>Withdrawn</td>\n",
       "      <td>NaN</td>\n",
       "      <td>...</td>\n",
       "      <td>NaN</td>\n",
       "      <td>NaN</td>\n",
       "      <td>N</td>\n",
       "      <td>NaN</td>\n",
       "      <td>28,330.00</td>\n",
       "      <td>NaN</td>\n",
       "      <td>Year</td>\n",
       "      <td>NaN</td>\n",
       "      <td>NaN</td>\n",
       "      <td>NaN</td>\n",
       "    </tr>\n",
       "    <tr>\n",
       "      <th>374358</th>\n",
       "      <td>NaN</td>\n",
       "      <td>Seattle</td>\n",
       "      <td>MacDonald Hoague &amp; Bayless</td>\n",
       "      <td>WA</td>\n",
       "      <td>NaN</td>\n",
       "      <td>NaN</td>\n",
       "      <td>A-16271-56745</td>\n",
       "      <td>2016-12-30</td>\n",
       "      <td>Withdrawn</td>\n",
       "      <td>L-1</td>\n",
       "      <td>...</td>\n",
       "      <td>NaN</td>\n",
       "      <td>Y</td>\n",
       "      <td>N</td>\n",
       "      <td>NaN</td>\n",
       "      <td>122,000.00</td>\n",
       "      <td>142,000.00</td>\n",
       "      <td>Year</td>\n",
       "      <td>NaN</td>\n",
       "      <td>NaN</td>\n",
       "      <td>NaN</td>\n",
       "    </tr>\n",
       "    <tr>\n",
       "      <th>374359</th>\n",
       "      <td>NaN</td>\n",
       "      <td>Schaumburg</td>\n",
       "      <td>International Legal and Business Services Grou...</td>\n",
       "      <td>IL</td>\n",
       "      <td>NaN</td>\n",
       "      <td>NaN</td>\n",
       "      <td>A-16354-82345</td>\n",
       "      <td>2016-12-30</td>\n",
       "      <td>Withdrawn</td>\n",
       "      <td>H-1B</td>\n",
       "      <td>...</td>\n",
       "      <td>NaN</td>\n",
       "      <td>NaN</td>\n",
       "      <td>N</td>\n",
       "      <td>NaN</td>\n",
       "      <td>79,082.00</td>\n",
       "      <td>79,082.00</td>\n",
       "      <td>Year</td>\n",
       "      <td>NaN</td>\n",
       "      <td>NaN</td>\n",
       "      <td>NaN</td>\n",
       "    </tr>\n",
       "    <tr>\n",
       "      <th>374360</th>\n",
       "      <td>NaN</td>\n",
       "      <td>LOS ANGELES</td>\n",
       "      <td>LAW OFFICES OF JAMES S HONG</td>\n",
       "      <td>CA</td>\n",
       "      <td>NaN</td>\n",
       "      <td>NaN</td>\n",
       "      <td>A-16357-84250</td>\n",
       "      <td>2016-12-30</td>\n",
       "      <td>Withdrawn</td>\n",
       "      <td>B-2</td>\n",
       "      <td>...</td>\n",
       "      <td>NaN</td>\n",
       "      <td>NaN</td>\n",
       "      <td>N</td>\n",
       "      <td>NaN</td>\n",
       "      <td>37,981.00</td>\n",
       "      <td>NaN</td>\n",
       "      <td>Year</td>\n",
       "      <td>NaN</td>\n",
       "      <td>NaN</td>\n",
       "      <td>NaN</td>\n",
       "    </tr>\n",
       "    <tr>\n",
       "      <th>374361</th>\n",
       "      <td>NaN</td>\n",
       "      <td>Phoenix</td>\n",
       "      <td>Fragomen, Del Rey, Bernsen &amp; Loewy, LLP</td>\n",
       "      <td>AZ</td>\n",
       "      <td>NaN</td>\n",
       "      <td>NaN</td>\n",
       "      <td>A-16279-59292</td>\n",
       "      <td>2016-12-30</td>\n",
       "      <td>Withdrawn</td>\n",
       "      <td>H-1B</td>\n",
       "      <td>...</td>\n",
       "      <td>NaN</td>\n",
       "      <td>NaN</td>\n",
       "      <td>N</td>\n",
       "      <td>NaN</td>\n",
       "      <td>84,926.00</td>\n",
       "      <td>121,500.00</td>\n",
       "      <td>Year</td>\n",
       "      <td>NaN</td>\n",
       "      <td>NaN</td>\n",
       "      <td>NaN</td>\n",
       "    </tr>\n",
       "  </tbody>\n",
       "</table>\n",
       "<p>5 rows × 154 columns</p>\n",
       "</div>"
      ],
      "text/plain": [
       "       add_these_pw_job_title_9089   agent_city  \\\n",
       "374357                         NaN   Buena Park   \n",
       "374358                         NaN      Seattle   \n",
       "374359                         NaN   Schaumburg   \n",
       "374360                         NaN  LOS ANGELES   \n",
       "374361                         NaN      Phoenix   \n",
       "\n",
       "                                          agent_firm_name agent_state  \\\n",
       "374357                           Law Offices of Yohan Lee          CA   \n",
       "374358                         MacDonald Hoague & Bayless          WA   \n",
       "374359  International Legal and Business Services Grou...          IL   \n",
       "374360                        LAW OFFICES OF JAMES S HONG          CA   \n",
       "374361            Fragomen, Del Rey, Bernsen & Loewy, LLP          AZ   \n",
       "\n",
       "       application_type case_no    case_number case_received_date case_status  \\\n",
       "374357              NaN     NaN  A-16363-85407         2016-12-29   Withdrawn   \n",
       "374358              NaN     NaN  A-16271-56745         2016-12-30   Withdrawn   \n",
       "374359              NaN     NaN  A-16354-82345         2016-12-30   Withdrawn   \n",
       "374360              NaN     NaN  A-16357-84250         2016-12-30   Withdrawn   \n",
       "374361              NaN     NaN  A-16279-59292         2016-12-30   Withdrawn   \n",
       "\n",
       "       class_of_admission              ...                \\\n",
       "374357                NaN              ...                 \n",
       "374358                L-1              ...                 \n",
       "374359               H-1B              ...                 \n",
       "374360                B-2              ...                 \n",
       "374361               H-1B              ...                 \n",
       "\n",
       "       ri_pvt_employment_firm_to ri_us_workers_considered schd_a_sheepherder  \\\n",
       "374357                       NaN                      NaN                  N   \n",
       "374358                       NaN                        Y                  N   \n",
       "374359                       NaN                      NaN                  N   \n",
       "374360                       NaN                      NaN                  N   \n",
       "374361                       NaN                      NaN                  N   \n",
       "\n",
       "       us_economic_sector wage_offer_from_9089 wage_offer_to_9089  \\\n",
       "374357                NaN            28,330.00                NaN   \n",
       "374358                NaN           122,000.00         142,000.00   \n",
       "374359                NaN            79,082.00          79,082.00   \n",
       "374360                NaN            37,981.00                NaN   \n",
       "374361                NaN            84,926.00         121,500.00   \n",
       "\n",
       "       wage_offer_unit_of_pay_9089 wage_offered_from_9089  \\\n",
       "374357                        Year                    NaN   \n",
       "374358                        Year                    NaN   \n",
       "374359                        Year                    NaN   \n",
       "374360                        Year                    NaN   \n",
       "374361                        Year                    NaN   \n",
       "\n",
       "       wage_offered_to_9089  wage_offered_unit_of_pay_9089  \n",
       "374357                  NaN                            NaN  \n",
       "374358                  NaN                            NaN  \n",
       "374359                  NaN                            NaN  \n",
       "374360                  NaN                            NaN  \n",
       "374361                  NaN                            NaN  \n",
       "\n",
       "[5 rows x 154 columns]"
      ]
     },
     "execution_count": 6,
     "metadata": {},
     "output_type": "execute_result"
    }
   ],
   "source": [
    "df.tail()"
   ]
  },
  {
   "cell_type": "code",
   "execution_count": 7,
   "metadata": {},
   "outputs": [
    {
     "name": "stdout",
     "output_type": "stream",
     "text": [
      "['add_these_pw_job_title_9089' 'agent_city' 'agent_firm_name'\n",
      " 'agent_state' 'application_type' 'case_no' 'case_number'\n",
      " 'case_received_date' 'case_status' 'class_of_admission'\n",
      " 'country_of_citizenship' 'country_of_citzenship' 'decision_date'\n",
      " 'employer_address_1' 'employer_address_2' 'employer_city'\n",
      " 'employer_country' 'employer_decl_info_title' 'employer_name'\n",
      " 'employer_num_employees' 'employer_phone' 'employer_phone_ext'\n",
      " 'employer_postal_code' 'employer_state' 'employer_yr_estab'\n",
      " 'foreign_worker_info_alt_edu_experience'\n",
      " 'foreign_worker_info_birth_country' 'foreign_worker_info_city'\n",
      " 'foreign_worker_info_education' 'foreign_worker_info_education_other'\n",
      " 'foreign_worker_info_inst' 'foreign_worker_info_major'\n",
      " 'foreign_worker_info_postal_code' 'foreign_worker_info_rel_occup_exp'\n",
      " 'foreign_worker_info_req_experience' 'foreign_worker_info_state'\n",
      " 'foreign_worker_info_training_comp' 'foreign_worker_ownership_interest'\n",
      " 'foreign_worker_yr_rel_edu_completed' 'fw_info_alt_edu_experience'\n",
      " 'fw_info_birth_country' 'fw_info_education_other' 'fw_info_postal_code'\n",
      " 'fw_info_rel_occup_exp' 'fw_info_req_experience' 'fw_info_training_comp'\n",
      " 'fw_info_yr_rel_edu_completed' 'fw_ownership_interest'\n",
      " 'ji_foreign_worker_live_on_premises' 'ji_fw_live_on_premises'\n",
      " 'ji_live_in_dom_svc_contract' 'ji_live_in_domestic_service'\n",
      " 'ji_offered_to_sec_j_foreign_worker' 'ji_offered_to_sec_j_fw'\n",
      " 'job_info_alt_cmb_ed_oth_yrs' 'job_info_alt_combo_ed'\n",
      " 'job_info_alt_combo_ed_exp' 'job_info_alt_combo_ed_other'\n",
      " 'job_info_alt_field' 'job_info_alt_field_name' 'job_info_alt_occ'\n",
      " 'job_info_alt_occ_job_title' 'job_info_alt_occ_num_months'\n",
      " 'job_info_combo_occupation' 'job_info_education'\n",
      " 'job_info_education_other' 'job_info_experience'\n",
      " 'job_info_experience_num_months' 'job_info_foreign_ed'\n",
      " 'job_info_foreign_lang_req' 'job_info_job_req_normal'\n",
      " 'job_info_job_title' 'job_info_major' 'job_info_training'\n",
      " 'job_info_training_field' 'job_info_training_num_months'\n",
      " 'job_info_work_city' 'job_info_work_postal_code' 'job_info_work_state'\n",
      " 'naics_2007_us_code' 'naics_2007_us_title' 'naics_code' 'naics_title'\n",
      " 'naics_us_code' 'naics_us_code_2007' 'naics_us_title'\n",
      " 'naics_us_title_2007' 'orig_case_no' 'orig_file_date'\n",
      " 'preparer_info_emp_completed' 'preparer_info_title' 'pw_amount_9089'\n",
      " 'pw_determ_date' 'pw_expire_date' 'pw_job_title_908' 'pw_job_title_9089'\n",
      " 'pw_level_9089' 'pw_soc_code' 'pw_soc_title' 'pw_source_name_9089'\n",
      " 'pw_source_name_other_9089' 'pw_track_num' 'pw_unit_of_pay_9089'\n",
      " 'rec_info_barg_rep_notified' 'recr_info_barg_rep_notified'\n",
      " 'recr_info_coll_teach_comp_proc' 'recr_info_coll_univ_teacher'\n",
      " 'recr_info_employer_rec_payment' 'recr_info_first_ad_start'\n",
      " 'recr_info_job_fair_from' 'recr_info_job_fair_to'\n",
      " 'recr_info_on_campus_recr_from' 'recr_info_on_campus_recr_to'\n",
      " 'recr_info_pro_org_advert_from' 'recr_info_pro_org_advert_to'\n",
      " 'recr_info_prof_org_advert_from' 'recr_info_prof_org_advert_to'\n",
      " 'recr_info_professional_occ' 'recr_info_radio_tv_ad_from'\n",
      " 'recr_info_radio_tv_ad_to' 'recr_info_second_ad_start'\n",
      " 'recr_info_sunday_newspaper' 'recr_info_swa_job_order_end'\n",
      " 'recr_info_swa_job_order_start' 'refile' 'ri_1st_ad_newspaper_name'\n",
      " 'ri_2nd_ad_newspaper_name' 'ri_2nd_ad_newspaper_or_journal'\n",
      " 'ri_campus_placement_from' 'ri_campus_placement_to'\n",
      " 'ri_coll_tch_basic_process' 'ri_coll_teach_pro_jnl'\n",
      " 'ri_coll_teach_select_date' 'ri_employee_referral_prog_from'\n",
      " 'ri_employee_referral_prog_to' 'ri_employer_web_post_from'\n",
      " 'ri_employer_web_post_to' 'ri_job_search_website_from'\n",
      " 'ri_job_search_website_to' 'ri_layoff_in_past_six_months'\n",
      " 'ri_local_ethnic_paper_from' 'ri_local_ethnic_paper_to'\n",
      " 'ri_posted_notice_at_worksite' 'ri_pvt_employment_firm_from'\n",
      " 'ri_pvt_employment_firm_to' 'ri_us_workers_considered'\n",
      " 'schd_a_sheepherder' 'us_economic_sector' 'wage_offer_from_9089'\n",
      " 'wage_offer_to_9089' 'wage_offer_unit_of_pay_9089'\n",
      " 'wage_offered_from_9089' 'wage_offered_to_9089'\n",
      " 'wage_offered_unit_of_pay_9089']\n"
     ]
    }
   ],
   "source": [
    "print(df.columns.values)"
   ]
  },
  {
   "cell_type": "code",
   "execution_count": 8,
   "metadata": {},
   "outputs": [
    {
     "name": "stdout",
     "output_type": "stream",
     "text": [
      "Length of 'case_number' column is:  374362  with 135269 missing values\n",
      "Length of 'case_no' column is:  374362  with 239093 missing values \n",
      "\n",
      "First 2 values of case_number column are : \n",
      " 0    NaN\n",
      "1    NaN\n",
      "Name: case_number, dtype: object \n",
      "\n",
      "Last 2 values of case_number column are : \n",
      " 374360    A-16357-84250\n",
      "374361    A-16279-59292\n",
      "Name: case_number, dtype: object \n",
      "\n",
      "First 2 values of case_no column are : \n",
      " 0    A-07323-97014\n",
      "1    A-07332-99439\n",
      "Name: case_no, dtype: object \n",
      "\n",
      "Last 2 values of case_no column are : \n",
      " 374360    NaN\n",
      "374361    NaN\n",
      "Name: case_no, dtype: object\n"
     ]
    }
   ],
   "source": [
    "print(\"Length of 'case_number' column is: \", len(df['case_number']),\" with\",df.case_number.isnull().sum(), \"missing values\")\n",
    "print(\"Length of 'case_no' column is: \", len(df['case_no']),\" with\", df.case_no.isnull().sum(),\"missing values \\n\")\n",
    "\n",
    "print(\"First 2 values of case_number column are : \\n\", df['case_number'].head(2),\"\\n\")\n",
    "\n",
    "print(\"Last 2 values of case_number column are : \\n\", df['case_number'].tail(2), \"\\n\")\n",
    "print(\"First 2 values of case_no column are : \\n\", df['case_no'].head(2), \"\\n\")\n",
    "print(\"Last 2 values of case_no column are : \\n\", df['case_no'].tail(2))"
   ]
  },
  {
   "cell_type": "code",
   "execution_count": 9,
   "metadata": {},
   "outputs": [],
   "source": [
    "casenoindex = df.columns.get_loc(\"case_no\")\n",
    "casenumberindex = df.columns.get_loc(\"case_number\")\n",
    "casenumberlist = []\n",
    "\n",
    "for value in df.iloc[0:135269,casenoindex]:\n",
    "    casenumberlist.append(value)\n",
    "    \n",
    "for value in df.iloc[135269:374363,casenumberindex]:\n",
    "    casenumberlist.append(value)\n",
    "    \n",
    "df['casenumber'] = casenumberlist\n",
    "df.drop(df.columns[[casenoindex,casenumberindex]], axis=1, inplace=True)"
   ]
  },
  {
   "cell_type": "code",
   "execution_count": 10,
   "metadata": {},
   "outputs": [
    {
     "name": "stdout",
     "output_type": "stream",
     "text": [
      "181933  occurrences of status 'Certified'\n",
      "25649  occurrences of status 'Denied'\n",
      "148586  occurrences of status 'Certified-Expired'\n",
      "18194  occurrences of status 'Withdrawn'\n"
     ]
    }
   ],
   "source": [
    "#Printing number of unique values for 'case_status' column\n",
    "for value in df.case_status.unique():\n",
    "    print(len(df[df['case_status'] == value]),\" occurrences of status '{}'\".format(value))"
   ]
  },
  {
   "cell_type": "code",
   "execution_count": 11,
   "metadata": {},
   "outputs": [
    {
     "data": {
      "text/plain": [
       "Certified    330519\n",
       "Denied        25649\n",
       "Name: case_status, dtype: int64"
      ]
     },
     "execution_count": 11,
     "metadata": {},
     "output_type": "execute_result"
    }
   ],
   "source": [
    "#Removing all withdrawn applications\n",
    "df = df[df.case_status != 'Withdrawn']\n",
    "\n",
    "#Combining certified-expired and certified applications and displaying distribution of \"case_status\" variable\n",
    "df.loc[df.case_status == 'Certified-Expired', 'case_status'] = 'Certified'\n",
    "df.case_status.value_counts()"
   ]
  },
  {
   "cell_type": "code",
   "execution_count": 12,
   "metadata": {},
   "outputs": [
    {
     "data": {
      "text/plain": [
       "(356168, 153)"
      ]
     },
     "execution_count": 12,
     "metadata": {},
     "output_type": "execute_result"
    }
   ],
   "source": [
    "#Dropping all empty columns\n",
    "df = df.dropna(axis=1, how='all');\n",
    "\n",
    "#Dropping all empty rows\n",
    "df = df.dropna(axis=0, how='all');\n",
    "\n",
    "df.shape"
   ]
  },
  {
   "cell_type": "code",
   "execution_count": 13,
   "metadata": {},
   "outputs": [
    {
     "name": "stdout",
     "output_type": "stream",
     "text": [
      "Attribute 'add_these_pw_job_title_9089' contains  317031  missing values\n",
      "Attribute 'agent_city' contains  153452  missing values\n",
      "Attribute 'agent_firm_name' contains  157646  missing values\n",
      "Attribute 'agent_state' contains  156544  missing values\n",
      "Attribute 'application_type' contains  229320  missing values\n",
      "Attribute 'case_received_date' contains  126848  missing values\n",
      "Attribute 'case_status' contains  0  missing values\n",
      "Attribute 'class_of_admission' contains  21085  missing values\n",
      "Attribute 'country_of_citizenship' contains  19272  missing values\n",
      "Attribute 'country_of_citzenship' contains  336951  missing values\n",
      "Attribute 'decision_date' contains  0  missing values\n",
      "Attribute 'employer_address_1' contains  37  missing values\n",
      "Attribute 'employer_address_2' contains  141026  missing values\n",
      "Attribute 'employer_city' contains  10  missing values\n",
      "Attribute 'employer_country' contains  126920  missing values\n",
      "Attribute 'employer_decl_info_title' contains  126885  missing values\n",
      "Attribute 'employer_name' contains  8  missing values\n",
      "Attribute 'employer_num_employees' contains  126925  missing values\n",
      "Attribute 'employer_phone' contains  126883  missing values\n",
      "Attribute 'employer_phone_ext' contains  333670  missing values\n",
      "Attribute 'employer_postal_code' contains  33  missing values\n",
      "Attribute 'employer_state' contains  37  missing values\n",
      "Attribute 'employer_yr_estab' contains  126982  missing values\n",
      "Attribute 'foreign_worker_info_alt_edu_experience' contains  271883  missing values\n",
      "Attribute 'foreign_worker_info_birth_country' contains  271880  missing values\n",
      "Attribute 'foreign_worker_info_city' contains  126875  missing values\n",
      "Attribute 'foreign_worker_info_education' contains  126887  missing values\n",
      "Attribute 'foreign_worker_info_education_other' contains  352421  missing values\n",
      "Attribute 'foreign_worker_info_inst' contains  143883  missing values\n",
      "Attribute 'foreign_worker_info_major' contains  144800  missing values\n",
      "Attribute 'foreign_worker_info_postal_code' contains  274425  missing values\n",
      "Attribute 'foreign_worker_info_rel_occup_exp' contains  271875  missing values\n",
      "Attribute 'foreign_worker_info_req_experience' contains  271873  missing values\n",
      "Attribute 'foreign_worker_info_state' contains  142448  missing values\n",
      "Attribute 'foreign_worker_info_training_comp' contains  271874  missing values\n",
      "Attribute 'foreign_worker_ownership_interest' contains  271870  missing values\n",
      "Attribute 'foreign_worker_yr_rel_edu_completed' contains  276735  missing values\n",
      "Attribute 'fw_info_alt_edu_experience' contains  211154  missing values\n",
      "Attribute 'fw_info_birth_country' contains  211166  missing values\n",
      "Attribute 'fw_info_education_other' contains  211576  missing values\n",
      "Attribute 'fw_info_postal_code' contains  213280  missing values\n",
      "Attribute 'fw_info_rel_occup_exp' contains  211157  missing values\n",
      "Attribute 'fw_info_req_experience' contains  211153  missing values\n",
      "Attribute 'fw_info_training_comp' contains  211156  missing values\n",
      "Attribute 'fw_info_yr_rel_edu_completed' contains  223131  missing values\n",
      "Attribute 'fw_ownership_interest' contains  211154  missing values\n",
      "Attribute 'ji_foreign_worker_live_on_premises' contains  271871  missing values\n",
      "Attribute 'ji_fw_live_on_premises' contains  211152  missing values\n",
      "Attribute 'ji_live_in_dom_svc_contract' contains  353855  missing values\n",
      "Attribute 'ji_live_in_domestic_service' contains  126858  missing values\n",
      "Attribute 'ji_offered_to_sec_j_foreign_worker' contains  271871  missing values\n",
      "Attribute 'ji_offered_to_sec_j_fw' contains  211152  missing values\n",
      "Attribute 'job_info_alt_cmb_ed_oth_yrs' contains  288242  missing values\n",
      "Attribute 'job_info_alt_combo_ed' contains  287909  missing values\n",
      "Attribute 'job_info_alt_combo_ed_exp' contains  126881  missing values\n",
      "Attribute 'job_info_alt_combo_ed_other' contains  347176  missing values\n",
      "Attribute 'job_info_alt_field' contains  126880  missing values\n",
      "Attribute 'job_info_alt_field_name' contains  265907  missing values\n",
      "Attribute 'job_info_alt_occ' contains  213169  missing values\n",
      "Attribute 'job_info_alt_occ_job_title' contains  213847  missing values\n",
      "Attribute 'job_info_alt_occ_num_months' contains  214045  missing values\n",
      "Attribute 'job_info_combo_occupation' contains  126855  missing values\n",
      "Attribute 'job_info_education' contains  126859  missing values\n",
      "Attribute 'job_info_education_other' contains  348724  missing values\n",
      "Attribute 'job_info_experience' contains  126858  missing values\n",
      "Attribute 'job_info_experience_num_months' contains  227222  missing values\n",
      "Attribute 'job_info_foreign_ed' contains  127075  missing values\n",
      "Attribute 'job_info_foreign_lang_req' contains  126862  missing values\n",
      "Attribute 'job_info_job_req_normal' contains  126859  missing values\n",
      "Attribute 'job_info_job_title' contains  126889  missing values\n",
      "Attribute 'job_info_major' contains  151081  missing values\n",
      "Attribute 'job_info_training' contains  126861  missing values\n",
      "Attribute 'job_info_training_field' contains  351877  missing values\n",
      "Attribute 'job_info_training_num_months' contains  351596  missing values\n",
      "Attribute 'job_info_work_city' contains  95  missing values\n",
      "Attribute 'job_info_work_postal_code' contains  126930  missing values\n",
      "Attribute 'job_info_work_state' contains  96  missing values\n",
      "Attribute 'naics_2007_us_code' contains  337009  missing values\n",
      "Attribute 'naics_2007_us_title' contains  337598  missing values\n",
      "Attribute 'naics_code' contains  272070  missing values\n",
      "Attribute 'naics_title' contains  272070  missing values\n",
      "Attribute 'naics_us_code' contains  211467  missing values\n",
      "Attribute 'naics_us_code_2007' contains  248921  missing values\n",
      "Attribute 'naics_us_title' contains  211467  missing values\n",
      "Attribute 'naics_us_title_2007' contains  251893  missing values\n",
      "Attribute 'orig_case_no' contains  355892  missing values\n",
      "Attribute 'orig_file_date' contains  355904  missing values\n",
      "Attribute 'preparer_info_emp_completed' contains  126885  missing values\n",
      "Attribute 'preparer_info_title' contains  154601  missing values\n",
      "Attribute 'pw_amount_9089' contains  2203  missing values\n",
      "Attribute 'pw_determ_date' contains  127160  missing values\n",
      "Attribute 'pw_expire_date' contains  127239  missing values\n",
      "Attribute 'pw_job_title_908' contains  211218  missing values\n",
      "Attribute 'pw_job_title_9089' contains  145334  missing values\n",
      "Attribute 'pw_level_9089' contains  26585  missing values\n",
      "Attribute 'pw_soc_code' contains  390  missing values\n",
      "Attribute 'pw_soc_title' contains  2321  missing values\n",
      "Attribute 'pw_source_name_9089' contains  2087  missing values\n",
      "Attribute 'pw_source_name_other_9089' contains  340927  missing values\n",
      "Attribute 'pw_track_num' contains  128689  missing values\n",
      "Attribute 'pw_unit_of_pay_9089' contains  1481  missing values\n",
      "Attribute 'rec_info_barg_rep_notified' contains  271930  missing values\n",
      "Attribute 'recr_info_barg_rep_notified' contains  211165  missing values\n",
      "Attribute 'recr_info_coll_teach_comp_proc' contains  349374  missing values\n",
      "Attribute 'recr_info_coll_univ_teacher' contains  126876  missing values\n",
      "Attribute 'recr_info_employer_rec_payment' contains  126864  missing values\n",
      "Attribute 'recr_info_first_ad_start' contains  132806  missing values\n",
      "Attribute 'recr_info_job_fair_from' contains  354447  missing values\n",
      "Attribute 'recr_info_job_fair_to' contains  354451  missing values\n",
      "Attribute 'recr_info_on_campus_recr_from' contains  354403  missing values\n",
      "Attribute 'recr_info_on_campus_recr_to' contains  354410  missing values\n",
      "Attribute 'recr_info_pro_org_advert_from' contains  342873  missing values\n",
      "Attribute 'recr_info_pro_org_advert_to' contains  342879  missing values\n",
      "Attribute 'recr_info_prof_org_advert_from' contains  328771  missing values\n",
      "Attribute 'recr_info_prof_org_advert_to' contains  328778  missing values\n",
      "Attribute 'recr_info_professional_occ' contains  126861  missing values\n",
      "Attribute 'recr_info_radio_tv_ad_from' contains  336666  missing values\n",
      "Attribute 'recr_info_radio_tv_ad_to' contains  336665  missing values\n",
      "Attribute 'recr_info_second_ad_start' contains  132843  missing values\n",
      "Attribute 'recr_info_sunday_newspaper' contains  132717  missing values\n",
      "Attribute 'recr_info_swa_job_order_end' contains  132841  missing values\n",
      "Attribute 'recr_info_swa_job_order_start' contains  132819  missing values\n",
      "Attribute 'refile' contains  247861  missing values\n",
      "Attribute 'ri_1st_ad_newspaper_name' contains  129114  missing values\n",
      "Attribute 'ri_2nd_ad_newspaper_name' contains  129145  missing values\n",
      "Attribute 'ri_2nd_ad_newspaper_or_journal' contains  132825  missing values\n",
      "Attribute 'ri_campus_placement_from' contains  327380  missing values\n",
      "Attribute 'ri_campus_placement_to' contains  327390  missing values\n",
      "Attribute 'ri_coll_tch_basic_process' contains  349382  missing values\n",
      "Attribute 'ri_coll_teach_pro_jnl' contains  209115  missing values\n",
      "Attribute 'ri_coll_teach_select_date' contains  350626  missing values\n",
      "Attribute 'ri_employee_referral_prog_from' contains  289853  missing values\n",
      "Attribute 'ri_employee_referral_prog_to' contains  289852  missing values\n",
      "Attribute 'ri_employer_web_post_from' contains  224277  missing values\n",
      "Attribute 'ri_employer_web_post_to' contains  224300  missing values\n",
      "Attribute 'ri_job_search_website_from' contains  166377  missing values\n",
      "Attribute 'ri_job_search_website_to' contains  166388  missing values\n"
     ]
    },
    {
     "name": "stdout",
     "output_type": "stream",
     "text": [
      "Attribute 'ri_layoff_in_past_six_months' contains  126878  missing values\n",
      "Attribute 'ri_local_ethnic_paper_from' contains  239853  missing values\n",
      "Attribute 'ri_local_ethnic_paper_to' contains  239852  missing values\n",
      "Attribute 'ri_posted_notice_at_worksite' contains  126927  missing values\n",
      "Attribute 'ri_pvt_employment_firm_from' contains  340050  missing values\n",
      "Attribute 'ri_pvt_employment_firm_to' contains  340052  missing values\n",
      "Attribute 'ri_us_workers_considered' contains  339595  missing values\n",
      "Attribute 'schd_a_sheepherder' contains  126866  missing values\n",
      "Attribute 'us_economic_sector' contains  235300  missing values\n",
      "Attribute 'wage_offer_from_9089' contains  107705  missing values\n",
      "Attribute 'wage_offer_to_9089' contains  285397  missing values\n",
      "Attribute 'wage_offer_unit_of_pay_9089' contains  108769  missing values\n",
      "Attribute 'wage_offered_from_9089' contains  248582  missing values\n",
      "Attribute 'wage_offered_to_9089' contains  326852  missing values\n",
      "Attribute 'wage_offered_unit_of_pay_9089' contains  289470  missing values\n",
      "Attribute 'casenumber' contains  0  missing values\n"
     ]
    }
   ],
   "source": [
    "# Displaying number of missing values in each column\n",
    "for column in df.columns:\n",
    "    print(\"Attribute '{}' contains \".format(column),  df[column].isnull().sum().sum(), \" missing values\")"
   ]
  },
  {
   "cell_type": "code",
   "execution_count": 14,
   "metadata": {},
   "outputs": [
    {
     "data": {
      "text/plain": [
       "[Text(0,0.5,'Number of Visa applicatons'), Text(0.5,0,'Visa application year')]"
      ]
     },
     "execution_count": 14,
     "metadata": {},
     "output_type": "execute_result"
    },
    {
     "data": {
      "image/png": "[encoded data removed]",
      "text/plain": [
       "<matplotlib.figure.Figure at 0x1a6c0d3128>"
      ]
     },
     "metadata": {},
     "output_type": "display_data"
    }
   ],
   "source": [
    "#Converting the date to contain just the year of application submission\n",
    "df['year'] = df['decision_date'].dt.year\n",
    "\n",
    "#Setting plot parameters\n",
    "fig, ax = plt.subplots()\n",
    "fig.set_size_inches(12.7, 8.27)\n",
    "sns.set_context(rc={\"font.size\":12})\n",
    "sns.countplot(x=\"year\", hue=\"case_status\", data=df)\n",
    "ax.set(xlabel='Visa application year', ylabel='Number of Visa applicatons')"
   ]
  },
  {
   "cell_type": "code",
   "execution_count": 15,
   "metadata": {},
   "outputs": [
    {
     "data": {
      "text/plain": [
       "NEW YORK           17198\n",
       "COLLEGE STATION    11985\n",
       "SANTA CLARA        10519\n",
       "SAN JOSE            9147\n",
       "REDMOND             8485\n",
       "MOUNTAIN VIEW       8121\n",
       "HOUSTON             6720\n",
       "SAN FRANCISCO       6352\n",
       "SUNNYVALE           6104\n",
       "PLANO               5607\n",
       "Name: employer_city, dtype: int64"
      ]
     },
     "execution_count": 15,
     "metadata": {},
     "output_type": "execute_result"
    }
   ],
   "source": [
    "# Displaying 10 most popular cities\n",
    "df['employer_city'] = df['employer_city'].str.upper()\n",
    "df['employer_city'].value_counts().head(10)"
   ]
  },
  {
   "cell_type": "code",
   "execution_count": 16,
   "metadata": {},
   "outputs": [
    {
     "data": {
      "text/plain": [
       "[Text(0,0.5,'Number of Visa applications'), Text(0.5,0,'Employer city')]"
      ]
     },
     "execution_count": 16,
     "metadata": {},
     "output_type": "execute_result"
    },
    {
     "data": {
      "image/png": "[encoded data removed]",
      "text/plain": [
       "<matplotlib.figure.Figure at 0x1a16308cc0>"
      ]
     },
     "metadata": {},
     "output_type": "display_data"
    }
   ],
   "source": [
    "# Setting plot parameters\n",
    "fig, ax = plt.subplots()\n",
    "fig.set_size_inches(13.7, 8.27)\n",
    "sns.set_context(\"paper\", rc={\"font.size\":12,\"axes.titlesize\":12,\"axes.labelsize\":12})\n",
    "sns.countplot(x='employer_city', hue='year', data=df, order=df.employer_city.value_counts().iloc[:10].index)\n",
    "plt.xticks(rotation=90)\n",
    "ax.set(xlabel='Employer city', ylabel='Number of Visa applications')"
   ]
  },
  {
   "cell_type": "code",
   "execution_count": 17,
   "metadata": {},
   "outputs": [
    {
     "data": {
      "text/plain": [
       "[Text(0,0.5,'Number of Visa applications'), Text(0.5,0,'Employer name')]"
      ]
     },
     "execution_count": 17,
     "metadata": {},
     "output_type": "execute_result"
    },
    {
     "data": {
      "image/png": "[encoded data removed]",
      "text/plain": [
       "<matplotlib.figure.Figure at 0x10bf01fd0>"
      ]
     },
     "metadata": {},
     "output_type": "display_data"
    }
   ],
   "source": [
    "#Setting plot parameters\n",
    "fig, ax = plt.subplots()\n",
    "fig.set_size_inches(12.7, 8.27)\n",
    "sns.set_context(rc={\"font.size\":12,\"axes.labelsize\":13})\n",
    "sns.countplot(x='employer_name', data=df, palette = sns.cubehelix_palette(8, start=.5, rot=-.75), order=df.employer_name.value_counts().iloc[:10].index)\n",
    "plt.xticks(rotation=90)\n",
    "\n",
    "#Iterating over elements in \"employer_name\" column and displaying counts above bars \n",
    "for i, v in df.employer_name.value_counts().head(10).reset_index().iterrows():\n",
    "    ax.text(i,v.employer_name,v.unique()[1], horizontalalignment='center',verticalalignment='bottom')\n",
    "    \n",
    "ax.set(xlabel='Employer name', ylabel='Number of Visa applications')"
   ]
  },
  {
   "cell_type": "code",
   "execution_count": 18,
   "metadata": {},
   "outputs": [],
   "source": [
    "#Creating empty dictionary\n",
    "us_economic_counts = {}\n",
    "\n",
    "#Iterating over \"us_economic_sector\" column and appending values to the \"us_economic_counts\" dictionary\n",
    "for value in df['us_economic_sector'].dropna():\n",
    "    if value in us_economic_counts:\n",
    "        us_economic_counts[value] += 1\n",
    "    else:\n",
    "        us_economic_counts[value] = 1"
   ]
  },
  {
   "cell_type": "code",
   "execution_count": 19,
   "metadata": {},
   "outputs": [
    {
     "data": {
      "text/plain": [
       "([<matplotlib.patches.Wedge at 0x1a19decc88>,\n",
       "  <matplotlib.patches.Wedge at 0x1a19df73c8>,\n",
       "  <matplotlib.patches.Wedge at 0x1a19df7b00>,\n",
       "  <matplotlib.patches.Wedge at 0x1a19e012e8>,\n",
       "  <matplotlib.patches.Wedge at 0x1a19e01a90>,\n",
       "  <matplotlib.patches.Wedge at 0x1a19d8b278>,\n",
       "  <matplotlib.patches.Wedge at 0x1a19d8ba20>,\n",
       "  <matplotlib.patches.Wedge at 0x1a19d94208>,\n",
       "  <matplotlib.patches.Wedge at 0x1a19d949b0>,\n",
       "  <matplotlib.patches.Wedge at 0x1a19d9e198>],\n",
       " [Text(-0.811914,-0.719736,'IT'),\n",
       "  Text(0.884195,-0.566303,'Other Economic Sector'),\n",
       "  Text(1.04942,-0.0350044,'Aerospace'),\n",
       "  Text(0.873772,0.582257,'Advanced Mfg'),\n",
       "  Text(0.237127,1.02287,'Educational Services'),\n",
       "  Text(-0.147343,1.03961,'Retail'),\n",
       "  Text(-0.310516,1.00304,'Construction'),\n",
       "  Text(-0.398406,0.97148,'Hospitality'),\n",
       "  Text(-0.476918,0.935441,'Automotive'),\n",
       "  Text(-0.666515,0.811331,'Health Care')],\n",
       " [Text(-0.699668,-0.620233,'45.3%'),\n",
       "  Text(0.757882,-0.485402,'13.5%'),\n",
       "  Text(0.8995,-0.0300038,'3.6%'),\n",
       "  Text(0.748947,0.499077,'16.2%'),\n",
       "  Text(0.203252,0.876749,'7.9%'),\n",
       "  Text(-0.126294,0.891095,'3.9%'),\n",
       "  Text(-0.266157,0.859744,'1.2%'),\n",
       "  Text(-0.341491,0.832697,'1.6%'),\n",
       "  Text(-0.408787,0.801806,'1.0%'),\n",
       "  Text(-0.571299,0.695426,'5.9%')])"
      ]
     },
     "execution_count": 19,
     "metadata": {},
     "output_type": "execute_result"
    },
    {
     "data": {
      "image/png": "[encoded data removed]",
      "text/plain": [
       "<matplotlib.figure.Figure at 0x1087de8d0>"
      ]
     },
     "metadata": {},
     "output_type": "display_data"
    }
   ],
   "source": [
    "#Creating lists for us economic sectors and their counts\n",
    "usecolabels = []\n",
    "usecovalues = []\n",
    "explode = (0.035, 0, 0, 0,0,0,0,0,0,0)\n",
    "\n",
    "for key, value in us_economic_counts.items():\n",
    "    usecolabels.append(key)\n",
    "    usecovalues.append(value)\n",
    "    \n",
    "#Setting plot parameters\n",
    "plt.figure(figsize=(13,13))    \n",
    "sns.set_context(rc={\"font.size\":10,\"axes.labelsize\":11,\"xtick.labelsize\" : 11})\n",
    "plt.pie(usecovalues[:10], labels=usecolabels[:10], explode = explode, autopct='%1.1f%%', pctdistance = 0.9,\n",
    "          rotatelabels = 90, startangle=140, labeldistance = 1.05) "
   ]
  },
  {
   "cell_type": "code",
   "execution_count": 20,
   "metadata": {},
   "outputs": [
    {
     "data": {
      "text/plain": [
       "Software Engineer                   14372\n",
       "Computer Systems Analyst - V         4747\n",
       "Senior Software Engineer             3801\n",
       "Computer Systems Analyst - II        3416\n",
       "Software Developer                   2880\n",
       "Assistant Professor                  2604\n",
       "Programmer Analyst                   2534\n",
       "Computer Systems Analyst - IV        2496\n",
       "Systems Analyst                      2034\n",
       "Software Development Engineer II     1630\n",
       "Name: job_info_job_title, dtype: int64"
      ]
     },
     "execution_count": 20,
     "metadata": {},
     "output_type": "execute_result"
    }
   ],
   "source": [
    "df['job_info_job_title'].value_counts()[:10]"
   ]
  },
  {
   "cell_type": "code",
   "execution_count": 21,
   "metadata": {},
   "outputs": [
    {
     "data": {
      "text/plain": [
       "software engineer                18582\n",
       "computer systems analyst         12054\n",
       "senior software engineer          5802\n",
       "software developer                4501\n",
       "programmer analyst                3763\n",
       "assistant professor               2869\n",
       "software development engineer     2766\n",
       "systems analyst                   2587\n",
       "senior programmer analyst         1884\n",
       "senior software developer         1625\n",
       "Name: job_info_job_title, dtype: int64"
      ]
     },
     "execution_count": 21,
     "metadata": {},
     "output_type": "execute_result"
    }
   ],
   "source": [
    "#Converting values to lower case\n",
    "df['job_info_job_title'] = df['job_info_job_title'].str.lower()\n",
    "\n",
    "#Splitting job titles by '-'\n",
    "df['job_info_job_title'] = df['job_info_job_title'].astype(str).str.split('-').str[0]\n",
    "#Splitting job titles by 'ii'\n",
    "df['job_info_job_title'] = df['job_info_job_title'].astype(str).str.split('ii').str[0]\n",
    "#Splitting job titles by '/'\n",
    "df['job_info_job_title'] = df['job_info_job_title'].astype(str).str.split('/').str[0]\n",
    "#Removing leading and ending spaces\n",
    "df['job_info_job_title'] = df['job_info_job_title'].astype(str).str.strip()\n",
    "#Replacing \"sr.\" values with \"senior\"\n",
    "df['job_info_job_title'] = df['job_info_job_title'].str.replace('sr.', 'senior')\n",
    "#Replacing \"NaN\", \"NaT\" and \"nan\" values with np.nan\n",
    "df['job_info_job_title'].replace([\"NaN\", 'NaT','nan'], np.nan, inplace = True)\n",
    "\n",
    "\n",
    "df['job_info_job_title'].value_counts(dropna=True)[:10]"
   ]
  },
  {
   "cell_type": "code",
   "execution_count": 22,
   "metadata": {},
   "outputs": [
    {
     "data": {
      "text/plain": [
       "[Text(0,0.5,'Number of Visa applications'), Text(0.5,0,'Job Title')]"
      ]
     },
     "execution_count": 22,
     "metadata": {},
     "output_type": "execute_result"
    },
    {
     "data": {
      "image/png": "[encoded data removed]",
      "text/plain": [
       "<matplotlib.figure.Figure at 0x1a19c1bc18>"
      ]
     },
     "metadata": {},
     "output_type": "display_data"
    }
   ],
   "source": [
    "#Setting plot parameters\n",
    "fig, ax = plt.subplots()\n",
    "fig.set_size_inches(12.7, 8.27)\n",
    " #sns.set_context(rc={\"font.size\":14, \"axes.labelsize\":12})\n",
    "sns.countplot(x='job_info_job_title',data=df, \n",
    "               palette = sns.diverging_palette(255, 133, l=60, n=10, center=\"dark\"), \n",
    "               order=df.job_info_job_title.value_counts().iloc[:10].index)\n",
    "plt.xticks(rotation=90)\n",
    "\n",
    "#Iterating over elements in \"job_info_job_title\" column and displaying counts above bars \n",
    "for i, v in df.job_info_job_title.value_counts().head(10).reset_index().iterrows():\n",
    "    ax.text(i,v.job_info_job_title,v.unique()[1], horizontalalignment='center',verticalalignment='bottom')\n",
    "\n",
    "#Setting label titles    \n",
    "ax.set(xlabel='Job Title', ylabel='Number of Visa applications')"
   ]
  },
  {
   "cell_type": "code",
   "execution_count": 23,
   "metadata": {},
   "outputs": [
    {
     "data": {
      "text/plain": [
       "[Text(0,0.5,'Number of Visa applications'),\n",
       " Text(0.5,0,'Country of citizenship')]"
      ]
     },
     "execution_count": 23,
     "metadata": {},
     "output_type": "execute_result"
    },
    {
     "data": {
      "image/png": "[encoded data removed]",
      "text/plain": [
       "<matplotlib.figure.Figure at 0x1a2663bc50>"
      ]
     },
     "metadata": {},
     "output_type": "display_data"
    }
   ],
   "source": [
    "#Setting plot parameters\n",
    "fig, ax = plt.subplots()\n",
    "fig.set_size_inches(12.7, 8.27)\n",
    "sns.set_context(rc={\"font.size\":14, \"axes.labelsize\":12})\n",
    "sns.countplot(x='country_of_citizenship',hue='case_status',data=df, \n",
    "              palette = sns.diverging_palette(255, 133, l=60, n=3, center=\"dark\"), \n",
    "              order=df.country_of_citizenship.value_counts().iloc[:7].index)\n",
    "plt.xticks(rotation=90)\n",
    "\n",
    "#Iterating over elements in \"country_of_citizenship\" column and displaying counts above bars \n",
    "for i, v in df.country_of_citizenship.value_counts().head(7).reset_index().iterrows():\n",
    "    ax.text(i,v.country_of_citizenship,v.unique()[1], horizontalalignment='right',verticalalignment='bottom')\n",
    "\n",
    "#Setting label titles    \n",
    "ax.set(xlabel='Country of citizenship', ylabel='Number of Visa applications')"
   ]
  },
  {
   "cell_type": "code",
   "execution_count": 24,
   "metadata": {},
   "outputs": [
    {
     "data": {
      "text/plain": [
       "[Text(0,0.5,'Number of Visa applications'), Text(0.5,0,'Visa type')]"
      ]
     },
     "execution_count": 24,
     "metadata": {},
     "output_type": "execute_result"
    },
    {
     "data": {
      "image/png": "[encoded data removed]",
      "text/plain": [
       "<matplotlib.figure.Figure at 0x1a19dabba8>"
      ]
     },
     "metadata": {},
     "output_type": "display_data"
    }
   ],
   "source": [
    "#Setting plot parameters\n",
    "fig, ax = plt.subplots()\n",
    "fig.set_size_inches(12.7, 8.27)\n",
    "sns.countplot(x='class_of_admission',data=df, \n",
    "              order=df.class_of_admission.value_counts().iloc[:10].index)\n",
    "plt.xticks(rotation=90)\n",
    "\n",
    "#Iterating over elements in \"class_of_admission\" column and displaying counts above bars \n",
    "for i, v in df.class_of_admission.value_counts().head(10).reset_index().iterrows():\n",
    "    ax.text(i,v.class_of_admission,v.unique()[1], horizontalalignment='center',verticalalignment='bottom')\n",
    "    \n",
    "ax.set(xlabel='Visa type', ylabel='Number of Visa applications')"
   ]
  },
  {
   "cell_type": "code",
   "execution_count": 25,
   "metadata": {},
   "outputs": [
    {
     "data": {
      "text/plain": [
       "[Text(0,0.5,'Number of Visa applications'), Text(0.5,0,'Application type')]"
      ]
     },
     "execution_count": 25,
     "metadata": {},
     "output_type": "execute_result"
    },
    {
     "data": {
      "image/png": "[encoded data removed]",
      "text/plain": [
       "<matplotlib.figure.Figure at 0x1a19dab5f8>"
      ]
     },
     "metadata": {},
     "output_type": "display_data"
    }
   ],
   "source": [
    "#Setting plot parameters\n",
    "fig, ax = plt.subplots()\n",
    "fig.set_size_inches(10.7, 7.27)\n",
    "sns.countplot(x='application_type', data=df, palette = sns.color_palette(\"GnBu_d\"), order=df.application_type.value_counts().iloc[:10].index)\n",
    "\n",
    "#Iterating over elements in \"application_type\" column and displaying counts above bars \n",
    "for i, v in df.application_type.value_counts().head(10).reset_index().iterrows():\n",
    "    ax.text(i,v.application_type,v.unique()[1], horizontalalignment='center',verticalalignment='bottom')\n",
    "    \n",
    "ax.set(xlabel='Application type', ylabel='Number of Visa applications')\n",
    "\n"
   ]
  },
  {
   "cell_type": "code",
   "execution_count": 26,
   "metadata": {},
   "outputs": [
    {
     "data": {
      "text/plain": [
       "[Text(0,0.5,'Number of Visa applications'), Text(0.5,0,'Education level')]"
      ]
     },
     "execution_count": 26,
     "metadata": {},
     "output_type": "execute_result"
    },
    {
     "data": {
      "image/png": "[encoded data removed]",
      "text/plain": [
       "<matplotlib.figure.Figure at 0x1a25da2898>"
      ]
     },
     "metadata": {},
     "output_type": "display_data"
    }
   ],
   "source": [
    "#Setting plot parameters\n",
    "fig, ax = plt.subplots()\n",
    "fig.set_size_inches(12.7, 8.27)\n",
    " #sns.set_context(rc={\"font.size\":14, \"axes.labelsize\":12})\n",
    "sns.countplot(x='foreign_worker_info_education',data=df, \n",
    "               palette = sns.color_palette(\"Paired\"), \n",
    "               order=df.foreign_worker_info_education.value_counts().iloc[:10].index)\n",
    "\n",
    "#Iterating over elements in \"job_info_job_title\" column and displaying counts above bars \n",
    "for i, v in df.foreign_worker_info_education.value_counts().head(10).reset_index().iterrows():\n",
    "    ax.text(i,v.foreign_worker_info_education,v.unique()[1], horizontalalignment='center',verticalalignment='bottom')\n",
    "\n",
    "#Setting label titles    \n",
    "ax.set(xlabel='Education level', ylabel='Number of Visa applications')"
   ]
  },
  {
   "cell_type": "code",
   "execution_count": 27,
   "metadata": {},
   "outputs": [
    {
     "data": {
      "text/html": [
       "<div>\n",
       "<style scoped>\n",
       "    .dataframe tbody tr th:only-of-type {\n",
       "        vertical-align: middle;\n",
       "    }\n",
       "\n",
       "    .dataframe tbody tr th {\n",
       "        vertical-align: top;\n",
       "    }\n",
       "\n",
       "    .dataframe thead th {\n",
       "        text-align: right;\n",
       "    }\n",
       "</style>\n",
       "<table border=\"1\" class=\"dataframe\">\n",
       "  <thead>\n",
       "    <tr style=\"text-align: right;\">\n",
       "      <th></th>\n",
       "      <th>pw_amount_9089</th>\n",
       "      <th>pw_unit_of_pay_9089</th>\n",
       "    </tr>\n",
       "  </thead>\n",
       "  <tbody>\n",
       "    <tr>\n",
       "      <th>0</th>\n",
       "      <td>75629.0</td>\n",
       "      <td>yr</td>\n",
       "    </tr>\n",
       "    <tr>\n",
       "      <th>1</th>\n",
       "      <td>37024.0</td>\n",
       "      <td>yr</td>\n",
       "    </tr>\n",
       "    <tr>\n",
       "      <th>2</th>\n",
       "      <td>47923.0</td>\n",
       "      <td>yr</td>\n",
       "    </tr>\n",
       "    <tr>\n",
       "      <th>3</th>\n",
       "      <td>10.97</td>\n",
       "      <td>hr</td>\n",
       "    </tr>\n",
       "    <tr>\n",
       "      <th>4</th>\n",
       "      <td>94890.0</td>\n",
       "      <td>yr</td>\n",
       "    </tr>\n",
       "    <tr>\n",
       "      <th>5</th>\n",
       "      <td>37024.0</td>\n",
       "      <td>yr</td>\n",
       "    </tr>\n",
       "    <tr>\n",
       "      <th>6</th>\n",
       "      <td>47083.33</td>\n",
       "      <td>yr</td>\n",
       "    </tr>\n",
       "    <tr>\n",
       "      <th>7</th>\n",
       "      <td>36733.0</td>\n",
       "      <td>yr</td>\n",
       "    </tr>\n",
       "    <tr>\n",
       "      <th>8</th>\n",
       "      <td>44824.0</td>\n",
       "      <td>yr</td>\n",
       "    </tr>\n",
       "    <tr>\n",
       "      <th>9</th>\n",
       "      <td>12.86</td>\n",
       "      <td>hr</td>\n",
       "    </tr>\n",
       "  </tbody>\n",
       "</table>\n",
       "</div>"
      ],
      "text/plain": [
       "  pw_amount_9089 pw_unit_of_pay_9089\n",
       "0        75629.0                  yr\n",
       "1        37024.0                  yr\n",
       "2        47923.0                  yr\n",
       "3          10.97                  hr\n",
       "4        94890.0                  yr\n",
       "5        37024.0                  yr\n",
       "6       47083.33                  yr\n",
       "7        36733.0                  yr\n",
       "8        44824.0                  yr\n",
       "9          12.86                  hr"
      ]
     },
     "execution_count": 27,
     "metadata": {},
     "output_type": "execute_result"
    }
   ],
   "source": [
    "df[['pw_amount_9089','pw_unit_of_pay_9089']].head(10)"
   ]
  },
  {
   "cell_type": "code",
   "execution_count": 28,
   "metadata": {},
   "outputs": [
    {
     "data": {
      "text/html": [
       "<div>\n",
       "<style scoped>\n",
       "    .dataframe tbody tr th:only-of-type {\n",
       "        vertical-align: middle;\n",
       "    }\n",
       "\n",
       "    .dataframe tbody tr th {\n",
       "        vertical-align: top;\n",
       "    }\n",
       "\n",
       "    .dataframe thead th {\n",
       "        text-align: right;\n",
       "    }\n",
       "</style>\n",
       "<table border=\"1\" class=\"dataframe\">\n",
       "  <thead>\n",
       "    <tr style=\"text-align: right;\">\n",
       "      <th></th>\n",
       "      <th>pw_amount_9089</th>\n",
       "      <th>pw_unit_of_pay_9089</th>\n",
       "    </tr>\n",
       "  </thead>\n",
       "  <tbody>\n",
       "    <tr>\n",
       "      <th>0</th>\n",
       "      <td>75629.00</td>\n",
       "      <td>Year</td>\n",
       "    </tr>\n",
       "    <tr>\n",
       "      <th>1</th>\n",
       "      <td>37024.00</td>\n",
       "      <td>Year</td>\n",
       "    </tr>\n",
       "    <tr>\n",
       "      <th>2</th>\n",
       "      <td>47923.00</td>\n",
       "      <td>Year</td>\n",
       "    </tr>\n",
       "    <tr>\n",
       "      <th>3</th>\n",
       "      <td>21940.00</td>\n",
       "      <td>Year</td>\n",
       "    </tr>\n",
       "    <tr>\n",
       "      <th>4</th>\n",
       "      <td>94890.00</td>\n",
       "      <td>Year</td>\n",
       "    </tr>\n",
       "    <tr>\n",
       "      <th>5</th>\n",
       "      <td>37024.00</td>\n",
       "      <td>Year</td>\n",
       "    </tr>\n",
       "    <tr>\n",
       "      <th>6</th>\n",
       "      <td>47083.33</td>\n",
       "      <td>Year</td>\n",
       "    </tr>\n",
       "    <tr>\n",
       "      <th>7</th>\n",
       "      <td>36733.00</td>\n",
       "      <td>Year</td>\n",
       "    </tr>\n",
       "    <tr>\n",
       "      <th>8</th>\n",
       "      <td>44824.00</td>\n",
       "      <td>Year</td>\n",
       "    </tr>\n",
       "    <tr>\n",
       "      <th>9</th>\n",
       "      <td>25720.00</td>\n",
       "      <td>Year</td>\n",
       "    </tr>\n",
       "  </tbody>\n",
       "</table>\n",
       "</div>"
      ],
      "text/plain": [
       "   pw_amount_9089 pw_unit_of_pay_9089\n",
       "0        75629.00                Year\n",
       "1        37024.00                Year\n",
       "2        47923.00                Year\n",
       "3        21940.00                Year\n",
       "4        94890.00                Year\n",
       "5        37024.00                Year\n",
       "6        47083.33                Year\n",
       "7        36733.00                Year\n",
       "8        44824.00                Year\n",
       "9        25720.00                Year"
      ]
     },
     "execution_count": 28,
     "metadata": {},
     "output_type": "execute_result"
    }
   ],
   "source": [
    "#Replacing commas with whitespace character\n",
    "df['pw_amount_9089'] = df['pw_amount_9089'].str.replace(\",\",\"\") \n",
    "\n",
    "for unit in df.pw_unit_of_pay_9089.unique():\n",
    "    if unit == \"hr\" or unit == \"Hour\":\n",
    "        df.loc[df['pw_unit_of_pay_9089'] == unit, 'pw_amount_9089'] = df['pw_amount_9089'].apply(lambda x: float(x) * 8 * 250)\n",
    "        df.loc[df['pw_unit_of_pay_9089'] == unit, 'pw_unit_of_pay_9089'] = df['pw_unit_of_pay_9089'].replace(to_replace = unit, value = \"Year\") \n",
    "    elif unit == \"wk\" or unit == \"Week\":\n",
    "        df.loc[df['pw_unit_of_pay_9089'] == unit, 'pw_amount_9089'] = df['pw_amount_9089'].apply(lambda x: float(x) * 50)\n",
    "        df.loc[df['pw_unit_of_pay_9089'] == unit, 'pw_unit_of_pay_9089'] = df['pw_unit_of_pay_9089'].replace(to_replace = unit, value = \"Year\")\n",
    "    elif unit == \"mth\" or unit == \"Month\":\n",
    "        df.loc[df['pw_unit_of_pay_9089'] == unit, 'pw_amount_9089'] = df['pw_amount_9089'].apply(lambda x: float(x) * 12)\n",
    "        df.loc[df['pw_unit_of_pay_9089'] == unit, 'pw_unit_of_pay_9089'] = df['pw_unit_of_pay_9089'].replace(to_replace = unit, value = \"Year\")\n",
    "    elif unit == \"bi\" or unit == \"Bi-Weekly\":  \n",
    "        df.loc[df['pw_unit_of_pay_9089'] == unit, 'pw_amount_9089'] = df['pw_amount_9089'].apply(lambda x: float(x) * 25)\n",
    "        df.loc[df['pw_unit_of_pay_9089'] == unit, 'pw_unit_of_pay_9089'] = df['pw_unit_of_pay_9089'].replace(to_replace = unit, value = \"Year\")\n",
    "    elif unit ==\"yr\":\n",
    "         df.loc[df['pw_unit_of_pay_9089'] == unit ,'pw_unit_of_pay_9089'] = df['pw_unit_of_pay_9089'].replace(to_replace = unit, value = \"Year\")\n",
    "    else:\n",
    "        continue\n",
    "        \n",
    "#Filling missing values with median \n",
    "df['pw_amount_9089']= df['pw_amount_9089'].fillna((df['pw_amount_9089'].median()))\n",
    "\n",
    "#Changing format from string to float\n",
    "df['pw_amount_9089'] = df.pw_amount_9089.astype(float)\n",
    "\n",
    "#Displaying 10 first values\n",
    "df[['pw_amount_9089','pw_unit_of_pay_9089']].head(10)"
   ]
  },
  {
   "cell_type": "code",
   "execution_count": 29,
   "metadata": {},
   "outputs": [
    {
     "name": "stdout",
     "output_type": "stream",
     "text": [
      "count      356168.00\n",
      "mean       469624.51\n",
      "std       7679620.28\n",
      "min             7.50\n",
      "25%         67808.00\n",
      "50%         86278.00\n",
      "75%        104790.00\n",
      "max     495748000.00\n",
      "Name: pw_amount_9089, dtype: float64\n"
     ]
    }
   ],
   "source": [
    "#Since running \"describe\" method on \"pw_amount_9089\" column returned exponential values, I decided to \n",
    "#convert them to floats so that they are easier to understand\n",
    "with pd.option_context('float_format', '{:.2f}'.format): print(df.pw_amount_9089.describe())"
   ]
  },
  {
   "cell_type": "code",
   "execution_count": 30,
   "metadata": {},
   "outputs": [
    {
     "data": {
      "text/plain": [
       "0-30k        19810\n",
       "30-60k       47493\n",
       "60-90k      133050\n",
       "90-120k     112631\n",
       "120-150k     30532\n",
       "150-180k      7094\n",
       "180-210k      3801\n",
       "210-240k       604\n",
       "240-270k        29\n",
       "270k+         1123\n",
       "Name: remuneration, dtype: int64"
      ]
     },
     "execution_count": 30,
     "metadata": {},
     "output_type": "execute_result"
    }
   ],
   "source": [
    "#Dividing our continuous income values into some categories to facilitate their visualization\n",
    "df['remuneration'] = pd.cut(df['pw_amount_9089'], [0, 30000, 60000,90000,120000,150000,180000,210000,240000,270000,495748000], right=False, labels=[\"0-30k\", \"30-60k\",\"60-90k\",\"90-120k\",\"120-150k\",\"150-180k\",\"180-210k\",\"210-240k\",\"240-270k\",\"270k+\"])\n",
    "salary = df['remuneration'].value_counts()\n",
    "salary.iloc[np.argsort(salary.index)]"
   ]
  },
  {
   "cell_type": "code",
   "execution_count": 31,
   "metadata": {},
   "outputs": [
    {
     "data": {
      "text/plain": [
       "<seaborn.axisgrid.FacetGrid at 0x1a1e9b6668>"
      ]
     },
     "execution_count": 31,
     "metadata": {},
     "output_type": "execute_result"
    },
    {
     "data": {
      "image/png": "[encoded data removed]",
      "text/plain": [
       "<matplotlib.figure.Figure at 0x1a1e64f080>"
      ]
     },
     "metadata": {},
     "output_type": "display_data"
    }
   ],
   "source": [
    "# Draw a count plot to show the distribution of remunerations\n",
    "g = sns.factorplot(x='remuneration', data=df, kind=\"count\",\n",
    "                   palette=\"BuPu\", size=9, aspect=1.2)\n",
    "\n",
    "g.set(xlabel='Remuneration', ylabel='Number of applicants')\n",
    "\n"
   ]
  },
  {
   "cell_type": "code",
   "execution_count": 32,
   "metadata": {},
   "outputs": [
    {
     "name": "stdout",
     "output_type": "stream",
     "text": [
      "0 Column: 'add_these_pw_job_title_9089' contains  10.99 % non-null values\n",
      "1 Column: 'agent_city' contains  56.92 % non-null values\n",
      "2 Column: 'agent_firm_name' contains  55.74 % non-null values\n",
      "3 Column: 'agent_state' contains  56.05 % non-null values\n",
      "4 Column: 'application_type' contains  35.61 % non-null values\n",
      "5 Column: 'case_received_date' contains  64.39 % non-null values\n",
      "6 Column: 'case_status' contains  100.0 % non-null values\n",
      "7 Column: 'class_of_admission' contains  94.08 % non-null values\n",
      "8 Column: 'country_of_citizenship' contains  94.59 % non-null values\n",
      "9 Column: 'country_of_citzenship' contains  5.4 % non-null values\n",
      "10 Column: 'decision_date' contains  100.0 % non-null values\n",
      "11 Column: 'employer_address_1' contains  99.99 % non-null values\n",
      "12 Column: 'employer_address_2' contains  60.4 % non-null values\n",
      "13 Column: 'employer_city' contains  100.0 % non-null values\n",
      "14 Column: 'employer_country' contains  64.37 % non-null values\n",
      "15 Column: 'employer_decl_info_title' contains  64.37 % non-null values\n",
      "16 Column: 'employer_name' contains  100.0 % non-null values\n",
      "17 Column: 'employer_num_employees' contains  64.36 % non-null values\n",
      "18 Column: 'employer_phone' contains  64.38 % non-null values\n",
      "19 Column: 'employer_phone_ext' contains  6.32 % non-null values\n",
      "20 Column: 'employer_postal_code' contains  99.99 % non-null values\n",
      "21 Column: 'employer_state' contains  99.99 % non-null values\n",
      "22 Column: 'employer_yr_estab' contains  64.35 % non-null values\n",
      "23 Column: 'foreign_worker_info_alt_edu_experience' contains  23.66 % non-null values\n",
      "24 Column: 'foreign_worker_info_birth_country' contains  23.67 % non-null values\n",
      "25 Column: 'foreign_worker_info_city' contains  64.38 % non-null values\n",
      "26 Column: 'foreign_worker_info_education' contains  64.37 % non-null values\n",
      "27 Column: 'foreign_worker_info_education_other' contains  1.05 % non-null values\n",
      "28 Column: 'foreign_worker_info_inst' contains  59.6 % non-null values\n",
      "29 Column: 'foreign_worker_info_major' contains  59.35 % non-null values\n",
      "30 Column: 'foreign_worker_info_postal_code' contains  22.95 % non-null values\n",
      "31 Column: 'foreign_worker_info_rel_occup_exp' contains  23.67 % non-null values\n",
      "32 Column: 'foreign_worker_info_req_experience' contains  23.67 % non-null values\n",
      "33 Column: 'foreign_worker_info_state' contains  60.01 % non-null values\n",
      "34 Column: 'foreign_worker_info_training_comp' contains  23.67 % non-null values\n",
      "35 Column: 'foreign_worker_ownership_interest' contains  23.67 % non-null values\n",
      "36 Column: 'foreign_worker_yr_rel_edu_completed' contains  22.3 % non-null values\n",
      "37 Column: 'fw_info_alt_edu_experience' contains  40.72 % non-null values\n",
      "38 Column: 'fw_info_birth_country' contains  40.71 % non-null values\n",
      "39 Column: 'fw_info_education_other' contains  40.6 % non-null values\n",
      "40 Column: 'fw_info_postal_code' contains  40.12 % non-null values\n",
      "41 Column: 'fw_info_rel_occup_exp' contains  40.71 % non-null values\n",
      "42 Column: 'fw_info_req_experience' contains  40.72 % non-null values\n",
      "43 Column: 'fw_info_training_comp' contains  40.71 % non-null values\n",
      "44 Column: 'fw_info_yr_rel_edu_completed' contains  37.35 % non-null values\n",
      "45 Column: 'fw_ownership_interest' contains  40.72 % non-null values\n",
      "46 Column: 'ji_foreign_worker_live_on_premises' contains  23.67 % non-null values\n",
      "47 Column: 'ji_fw_live_on_premises' contains  40.72 % non-null values\n",
      "48 Column: 'ji_live_in_dom_svc_contract' contains  0.65 % non-null values\n",
      "49 Column: 'ji_live_in_domestic_service' contains  64.38 % non-null values\n",
      "50 Column: 'ji_offered_to_sec_j_foreign_worker' contains  23.67 % non-null values\n",
      "51 Column: 'ji_offered_to_sec_j_fw' contains  40.72 % non-null values\n",
      "52 Column: 'job_info_alt_cmb_ed_oth_yrs' contains  19.07 % non-null values\n",
      "53 Column: 'job_info_alt_combo_ed' contains  19.16 % non-null values\n",
      "54 Column: 'job_info_alt_combo_ed_exp' contains  64.38 % non-null values\n",
      "55 Column: 'job_info_alt_combo_ed_other' contains  2.52 % non-null values\n",
      "56 Column: 'job_info_alt_field' contains  64.38 % non-null values\n",
      "57 Column: 'job_info_alt_field_name' contains  25.34 % non-null values\n",
      "58 Column: 'job_info_alt_occ' contains  40.15 % non-null values\n",
      "59 Column: 'job_info_alt_occ_job_title' contains  39.96 % non-null values\n",
      "60 Column: 'job_info_alt_occ_num_months' contains  39.9 % non-null values\n",
      "61 Column: 'job_info_combo_occupation' contains  64.38 % non-null values\n",
      "62 Column: 'job_info_education' contains  64.38 % non-null values\n",
      "63 Column: 'job_info_education_other' contains  2.09 % non-null values\n",
      "64 Column: 'job_info_experience' contains  64.38 % non-null values\n",
      "65 Column: 'job_info_experience_num_months' contains  36.2 % non-null values\n",
      "66 Column: 'job_info_foreign_ed' contains  64.32 % non-null values\n",
      "67 Column: 'job_info_foreign_lang_req' contains  64.38 % non-null values\n",
      "68 Column: 'job_info_job_req_normal' contains  64.38 % non-null values\n",
      "69 Column: 'job_info_job_title' contains  64.37 % non-null values\n",
      "70 Column: 'job_info_major' contains  57.58 % non-null values\n",
      "71 Column: 'job_info_training' contains  64.38 % non-null values\n",
      "72 Column: 'job_info_training_field' contains  1.2 % non-null values\n",
      "73 Column: 'job_info_training_num_months' contains  1.28 % non-null values\n",
      "74 Column: 'job_info_work_city' contains  99.97 % non-null values\n",
      "75 Column: 'job_info_work_postal_code' contains  64.36 % non-null values\n",
      "76 Column: 'job_info_work_state' contains  99.97 % non-null values\n",
      "77 Column: 'naics_2007_us_code' contains  5.38 % non-null values\n",
      "78 Column: 'naics_2007_us_title' contains  5.21 % non-null values\n",
      "79 Column: 'naics_code' contains  23.61 % non-null values\n",
      "80 Column: 'naics_title' contains  23.61 % non-null values\n",
      "81 Column: 'naics_us_code' contains  40.63 % non-null values\n",
      "82 Column: 'naics_us_code_2007' contains  30.11 % non-null values\n",
      "83 Column: 'naics_us_title' contains  40.63 % non-null values\n",
      "84 Column: 'naics_us_title_2007' contains  29.28 % non-null values\n",
      "85 Column: 'orig_case_no' contains  0.08 % non-null values\n",
      "86 Column: 'orig_file_date' contains  0.07 % non-null values\n",
      "87 Column: 'preparer_info_emp_completed' contains  64.37 % non-null values\n",
      "88 Column: 'preparer_info_title' contains  56.59 % non-null values\n",
      "89 Column: 'pw_amount_9089' contains  100.0 % non-null values\n",
      "90 Column: 'pw_determ_date' contains  64.3 % non-null values\n",
      "91 Column: 'pw_expire_date' contains  64.28 % non-null values\n",
      "92 Column: 'pw_job_title_908' contains  40.7 % non-null values\n",
      "93 Column: 'pw_job_title_9089' contains  59.2 % non-null values\n",
      "94 Column: 'pw_level_9089' contains  92.54 % non-null values\n",
      "95 Column: 'pw_soc_code' contains  99.89 % non-null values\n",
      "96 Column: 'pw_soc_title' contains  99.35 % non-null values\n",
      "97 Column: 'pw_source_name_9089' contains  99.41 % non-null values\n",
      "98 Column: 'pw_source_name_other_9089' contains  4.28 % non-null values\n",
      "99 Column: 'pw_track_num' contains  63.87 % non-null values\n",
      "100 Column: 'pw_unit_of_pay_9089' contains  99.58 % non-null values\n",
      "101 Column: 'rec_info_barg_rep_notified' contains  23.65 % non-null values\n",
      "102 Column: 'recr_info_barg_rep_notified' contains  40.71 % non-null values\n",
      "103 Column: 'recr_info_coll_teach_comp_proc' contains  1.91 % non-null values\n",
      "104 Column: 'recr_info_coll_univ_teacher' contains  64.38 % non-null values\n",
      "105 Column: 'recr_info_employer_rec_payment' contains  64.38 % non-null values\n",
      "106 Column: 'recr_info_first_ad_start' contains  62.71 % non-null values\n",
      "107 Column: 'recr_info_job_fair_from' contains  0.48 % non-null values\n",
      "108 Column: 'recr_info_job_fair_to' contains  0.48 % non-null values\n",
      "109 Column: 'recr_info_on_campus_recr_from' contains  0.5 % non-null values\n",
      "110 Column: 'recr_info_on_campus_recr_to' contains  0.49 % non-null values\n",
      "111 Column: 'recr_info_pro_org_advert_from' contains  3.73 % non-null values\n",
      "112 Column: 'recr_info_pro_org_advert_to' contains  3.73 % non-null values\n",
      "113 Column: 'recr_info_prof_org_advert_from' contains  7.69 % non-null values\n",
      "114 Column: 'recr_info_prof_org_advert_to' contains  7.69 % non-null values\n",
      "115 Column: 'recr_info_professional_occ' contains  64.38 % non-null values\n",
      "116 Column: 'recr_info_radio_tv_ad_from' contains  5.48 % non-null values\n",
      "117 Column: 'recr_info_radio_tv_ad_to' contains  5.48 % non-null values\n",
      "118 Column: 'recr_info_second_ad_start' contains  62.7 % non-null values\n",
      "119 Column: 'recr_info_sunday_newspaper' contains  62.74 % non-null values\n",
      "120 Column: 'recr_info_swa_job_order_end' contains  62.7 % non-null values\n",
      "121 Column: 'recr_info_swa_job_order_start' contains  62.71 % non-null values\n",
      "122 Column: 'refile' contains  30.41 % non-null values\n",
      "123 Column: 'ri_1st_ad_newspaper_name' contains  63.75 % non-null values\n",
      "124 Column: 'ri_2nd_ad_newspaper_name' contains  63.74 % non-null values\n",
      "125 Column: 'ri_2nd_ad_newspaper_or_journal' contains  62.71 % non-null values\n",
      "126 Column: 'ri_campus_placement_from' contains  8.08 % non-null values\n",
      "127 Column: 'ri_campus_placement_to' contains  8.08 % non-null values\n",
      "128 Column: 'ri_coll_tch_basic_process' contains  1.91 % non-null values\n"
     ]
    },
    {
     "name": "stdout",
     "output_type": "stream",
     "text": [
      "129 Column: 'ri_coll_teach_pro_jnl' contains  41.29 % non-null values\n",
      "130 Column: 'ri_coll_teach_select_date' contains  1.56 % non-null values\n",
      "131 Column: 'ri_employee_referral_prog_from' contains  18.62 % non-null values\n",
      "132 Column: 'ri_employee_referral_prog_to' contains  18.62 % non-null values\n",
      "133 Column: 'ri_employer_web_post_from' contains  37.03 % non-null values\n",
      "134 Column: 'ri_employer_web_post_to' contains  37.02 % non-null values\n",
      "135 Column: 'ri_job_search_website_from' contains  53.29 % non-null values\n",
      "136 Column: 'ri_job_search_website_to' contains  53.28 % non-null values\n",
      "137 Column: 'ri_layoff_in_past_six_months' contains  64.38 % non-null values\n",
      "138 Column: 'ri_local_ethnic_paper_from' contains  32.66 % non-null values\n",
      "139 Column: 'ri_local_ethnic_paper_to' contains  32.66 % non-null values\n",
      "140 Column: 'ri_posted_notice_at_worksite' contains  64.36 % non-null values\n",
      "141 Column: 'ri_pvt_employment_firm_from' contains  4.53 % non-null values\n",
      "142 Column: 'ri_pvt_employment_firm_to' contains  4.52 % non-null values\n",
      "143 Column: 'ri_us_workers_considered' contains  4.65 % non-null values\n",
      "144 Column: 'schd_a_sheepherder' contains  64.38 % non-null values\n",
      "145 Column: 'us_economic_sector' contains  33.94 % non-null values\n",
      "146 Column: 'wage_offer_from_9089' contains  69.76 % non-null values\n",
      "147 Column: 'wage_offer_to_9089' contains  19.87 % non-null values\n",
      "148 Column: 'wage_offer_unit_of_pay_9089' contains  69.46 % non-null values\n",
      "149 Column: 'wage_offered_from_9089' contains  30.21 % non-null values\n",
      "150 Column: 'wage_offered_to_9089' contains  8.23 % non-null values\n",
      "151 Column: 'wage_offered_unit_of_pay_9089' contains  18.73 % non-null values\n",
      "152 Column: 'casenumber' contains  100.0 % non-null values\n",
      "153 Column: 'year' contains  100.0 % non-null values\n",
      "154 Column: 'remuneration' contains  100.0 % non-null values\n"
     ]
    }
   ],
   "source": [
    "#Displaying percentage of non-null values for each feature\n",
    "i = 0;\n",
    "for col in df.columns:\n",
    "    i = i+1;\n",
    "    print (i-1,\"Column: '{}'\".format(col),\"contains \", np.round(100*df[col].count()/len(df['case_status']),decimals=2),\"% non-null values\" )"
   ]
  },
  {
   "cell_type": "code",
   "execution_count": 33,
   "metadata": {},
   "outputs": [
    {
     "name": "stdout",
     "output_type": "stream",
     "text": [
      "<class 'pandas.core.frame.DataFrame'>\n",
      "Int64Index: 356168 entries, 0 to 374353\n",
      "Data columns (total 19 columns):\n",
      "case_status               356168 non-null object\n",
      "class_of_admission        335083 non-null object\n",
      "country_of_citizenship    336896 non-null object\n",
      "decision_date             356168 non-null datetime64[ns]\n",
      "employer_address_1        356131 non-null object\n",
      "employer_city             356158 non-null object\n",
      "employer_name             356160 non-null object\n",
      "employer_postal_code      356135 non-null object\n",
      "employer_state            356131 non-null object\n",
      "job_info_work_city        356073 non-null object\n",
      "job_info_work_state       356072 non-null object\n",
      "pw_amount_9089            356168 non-null float64\n",
      "pw_soc_code               355778 non-null object\n",
      "pw_soc_title              353847 non-null object\n",
      "pw_source_name_9089       354081 non-null object\n",
      "pw_unit_of_pay_9089       354687 non-null object\n",
      "casenumber                356168 non-null object\n",
      "year                      356168 non-null int64\n",
      "remuneration              356167 non-null category\n",
      "dtypes: category(1), datetime64[ns](1), float64(1), int64(1), object(15)\n",
      "memory usage: 62.0+ MB\n"
     ]
    }
   ],
   "source": [
    "#Leaving columns which have more than 330000 non-missing observations\n",
    "df = df.loc[:,df.count() >= 330000]\n",
    "df.info()"
   ]
  },
  {
   "cell_type": "code",
   "execution_count": 34,
   "metadata": {},
   "outputs": [],
   "source": [
    "#Indices of selected features\n",
    "chosen_attrs = [0,1,2,5,6,8,12,14,17,18]\n",
    "df = df.iloc[:,chosen_attrs]"
   ]
  },
  {
   "cell_type": "code",
   "execution_count": 35,
   "metadata": {},
   "outputs": [],
   "source": [
    "#Assigning Labels to Case Status\n",
    "df.loc[df.case_status == 'Certified', 'case_status'] = 1\n",
    "df.loc[df.case_status == 'Denied', 'case_status'] = 0\n",
    "\n",
    "#Filling missing values in \"employer_state\" column with mode\n",
    "df['employer_state'] = df['employer_state'].fillna(df['employer_state'].mode()[0]);\n",
    "\n",
    "#Mapping from state name to abbreviation\n",
    "state_abbrevs = {\n",
    "    'Alabama': 'AL',\n",
    "    'Alaska': 'AK',\n",
    "    'Arizona': 'AZ',\n",
    "    'Arkansas': 'AR',\n",
    "    'California': 'CA',\n",
    "    'Colorado': 'CO',\n",
    "    'Connecticut': 'CT',\n",
    "    'Delaware': 'DE',\n",
    "    'Florida': 'FL',\n",
    "    'Georgia': 'GA',\n",
    "    'Hawaii': 'HI',\n",
    "    'Idaho': 'ID',\n",
    "    'Illinois': 'IL',\n",
    "    'Indiana': 'IN',\n",
    "    'Iowa': 'IA',\n",
    "    'Kansas': 'KS',\n",
    "    'Kentucky': 'KY',\n",
    "    'Louisiana': 'LA',\n",
    "    'Maine': 'ME',\n",
    "    'Maryland': 'MD',\n",
    "    'Massachusetts': 'MA',\n",
    "    'Michigan': 'MI',\n",
    "    'Minnesota': 'MN',\n",
    "    'Mississippi': 'MS',\n",
    "    'Missouri': 'MO',\n",
    "    'Montana': 'MT',\n",
    "    'Nebraska': 'NE',\n",
    "    'Nevada': 'NV',\n",
    "    'New Hampshire': 'NH',\n",
    "    'New Jersey': 'NJ',\n",
    "    'New Mexico': 'NM',\n",
    "    'New York': 'NY',\n",
    "    'North Carolina': 'NC',\n",
    "    'North Dakota': 'ND',\n",
    "    'Ohio': 'OH',\n",
    "    'Oklahoma': 'OK',\n",
    "    'Oregon': 'OR',\n",
    "    'Pennsylvania': 'PA',\n",
    "    'Rhode Island': 'RI',\n",
    "    'South Carolina': 'SC',\n",
    "    'South Dakota': 'SD',\n",
    "    'Tennessee': 'TN',\n",
    "    'Texas': 'TX',\n",
    "    'Utah': 'UT',\n",
    "    'Vermont': 'VT',\n",
    "    'Virginia': 'VA',\n",
    "    'Washington': 'WA',\n",
    "    'West Virginia': 'WV',\n",
    "    'Wisconsin': 'WI',\n",
    "    'Wyoming': 'WY',\n",
    "    'Northern Mariana Islands':'MP', \n",
    "    'Palau': 'PW', \n",
    "    'Puerto Rico': 'PR', \n",
    "    'Virgin Islands': 'VI', \n",
    "    'District of Columbia': 'DC'\n",
    "}\n",
    "\n",
    "#Capitalizing Keys\n",
    "us_state_abbrev = {k.upper(): v for k, v in state_abbrevs.items()}\n",
    "df['employer_state'].replace(us_state_abbrev, inplace=True)\n",
    "df.employer_state = df.employer_state.astype(str)"
   ]
  },
  {
   "cell_type": "code",
   "execution_count": 36,
   "metadata": {},
   "outputs": [],
   "source": [
    "df['pw_soc_code'] = df['pw_soc_code'].str.replace('.','')\n",
    "df['pw_soc_code'] = df['pw_soc_code'].str.replace('-','')\n",
    "df['pw_soc_code'] = df['pw_soc_code'].astype(str).str[0:6]\n",
    "df['pw_soc_code'].value_counts()\n",
    "\n",
    "#Finding \"nan\" values in \"pw_soc_code\" column and filling them with mode\n",
    "df.loc[df['pw_soc_code'] == \"nan\",'pw_soc_code'] = df['pw_soc_code'].mode()[0]\n",
    "\n",
    "#Finding \"None\" values in \"pw_soc_code\" column and filling them with mode\n",
    "df.loc[df['pw_soc_code'] == \"None\",'pw_soc_code'] = df['pw_soc_code'].mode()[0]\n",
    "\n",
    "#Changing type from string to int\n",
    "df['pw_soc_code'] = df['pw_soc_code'].astype(int)\n",
    "df['case_status'] = df['case_status'].astype(int)"
   ]
  },
  {
   "cell_type": "code",
   "execution_count": 37,
   "metadata": {},
   "outputs": [],
   "source": [
    "#Replacing missing values with mode\n",
    "df['class_of_admission']=df['class_of_admission'].fillna((df['class_of_admission'].mode()[0]))\n",
    "df['country_of_citizenship']=df['country_of_citizenship'].fillna((df['country_of_citizenship'].mode()[0]))\n",
    "df['employer_city']=df['employer_city'].fillna((df['employer_city'].mode()[0]))\n",
    "df['employer_name']=df['employer_name'].fillna((df['employer_name'].mode()[0]))\n",
    "df['employer_name']=df['employer_name'].astype(str).str.upper()\n",
    "df['pw_source_name_9089']=df['pw_source_name_9089'].fillna((df['pw_source_name_9089'].mode()[0]))\n",
    "df['remuneration']=df['remuneration'].fillna((df['remuneration'].mode()[0]))"
   ]
  },
  {
   "cell_type": "code",
   "execution_count": 38,
   "metadata": {},
   "outputs": [
    {
     "name": "stdout",
     "output_type": "stream",
     "text": [
      "<class 'pandas.core.frame.DataFrame'>\n",
      "Int64Index: 356168 entries, 0 to 374353\n",
      "Data columns (total 10 columns):\n",
      "case_status               356168 non-null int64\n",
      "class_of_admission        356168 non-null object\n",
      "country_of_citizenship    356168 non-null object\n",
      "employer_city             356168 non-null object\n",
      "employer_name             356168 non-null object\n",
      "employer_state            356168 non-null object\n",
      "pw_soc_code               356168 non-null int64\n",
      "pw_source_name_9089       356168 non-null object\n",
      "year                      356168 non-null int64\n",
      "remuneration              356168 non-null category\n",
      "dtypes: category(1), int64(3), object(6)\n",
      "memory usage: 37.5+ MB\n"
     ]
    }
   ],
   "source": [
    "df.info()"
   ]
  },
  {
   "cell_type": "code",
   "execution_count": 39,
   "metadata": {},
   "outputs": [
    {
     "data": {
      "text/html": [
       "<div>\n",
       "<style scoped>\n",
       "    .dataframe tbody tr th:only-of-type {\n",
       "        vertical-align: middle;\n",
       "    }\n",
       "\n",
       "    .dataframe tbody tr th {\n",
       "        vertical-align: top;\n",
       "    }\n",
       "\n",
       "    .dataframe thead th {\n",
       "        text-align: right;\n",
       "    }\n",
       "</style>\n",
       "<table border=\"1\" class=\"dataframe\">\n",
       "  <thead>\n",
       "    <tr style=\"text-align: right;\">\n",
       "      <th></th>\n",
       "      <th>case_status</th>\n",
       "      <th>class_of_admission</th>\n",
       "      <th>country_of_citizenship</th>\n",
       "      <th>employer_city</th>\n",
       "      <th>employer_name</th>\n",
       "      <th>employer_state</th>\n",
       "      <th>pw_soc_code</th>\n",
       "      <th>pw_source_name_9089</th>\n",
       "      <th>year</th>\n",
       "      <th>remuneration</th>\n",
       "    </tr>\n",
       "  </thead>\n",
       "  <tbody>\n",
       "    <tr>\n",
       "      <th>0</th>\n",
       "      <td>1</td>\n",
       "      <td>J-1</td>\n",
       "      <td>INDIA</td>\n",
       "      <td>NEW YORK</td>\n",
       "      <td>NETSOFT USA INC.</td>\n",
       "      <td>NY</td>\n",
       "      <td>151031</td>\n",
       "      <td>OES</td>\n",
       "      <td>2012</td>\n",
       "      <td>60-90k</td>\n",
       "    </tr>\n",
       "    <tr>\n",
       "      <th>1</th>\n",
       "      <td>0</td>\n",
       "      <td>B-2</td>\n",
       "      <td>INDIA</td>\n",
       "      <td>CARLSTADT</td>\n",
       "      <td>PINNACLE ENVIRONEMNTAL CORP</td>\n",
       "      <td>NY</td>\n",
       "      <td>474041</td>\n",
       "      <td>OES</td>\n",
       "      <td>2011</td>\n",
       "      <td>30-60k</td>\n",
       "    </tr>\n",
       "    <tr>\n",
       "      <th>2</th>\n",
       "      <td>1</td>\n",
       "      <td>H-1B</td>\n",
       "      <td>INDIA</td>\n",
       "      <td>GLEN ALLEN</td>\n",
       "      <td>SCHNABEL ENGINEERING, INC.</td>\n",
       "      <td>VA</td>\n",
       "      <td>172051</td>\n",
       "      <td>OES</td>\n",
       "      <td>2011</td>\n",
       "      <td>30-60k</td>\n",
       "    </tr>\n",
       "    <tr>\n",
       "      <th>3</th>\n",
       "      <td>1</td>\n",
       "      <td>B-2</td>\n",
       "      <td>INDIA</td>\n",
       "      <td>FLUSHING</td>\n",
       "      <td>EBENEZER MISSION CHURCH</td>\n",
       "      <td>NY</td>\n",
       "      <td>434071</td>\n",
       "      <td>OES</td>\n",
       "      <td>2011</td>\n",
       "      <td>0-30k</td>\n",
       "    </tr>\n",
       "    <tr>\n",
       "      <th>4</th>\n",
       "      <td>1</td>\n",
       "      <td>L-1</td>\n",
       "      <td>INDIA</td>\n",
       "      <td>ALBANY</td>\n",
       "      <td>ALBANY INTERNATIONAL CORP.</td>\n",
       "      <td>NY</td>\n",
       "      <td>419031</td>\n",
       "      <td>OES</td>\n",
       "      <td>2012</td>\n",
       "      <td>90-120k</td>\n",
       "    </tr>\n",
       "  </tbody>\n",
       "</table>\n",
       "</div>"
      ],
      "text/plain": [
       "   case_status class_of_admission country_of_citizenship employer_city  \\\n",
       "0            1                J-1                  INDIA      NEW YORK   \n",
       "1            0                B-2                  INDIA     CARLSTADT   \n",
       "2            1               H-1B                  INDIA    GLEN ALLEN   \n",
       "3            1                B-2                  INDIA      FLUSHING   \n",
       "4            1                L-1                  INDIA        ALBANY   \n",
       "\n",
       "                 employer_name employer_state  pw_soc_code  \\\n",
       "0             NETSOFT USA INC.             NY       151031   \n",
       "1  PINNACLE ENVIRONEMNTAL CORP             NY       474041   \n",
       "2   SCHNABEL ENGINEERING, INC.             VA       172051   \n",
       "3      EBENEZER MISSION CHURCH             NY       434071   \n",
       "4   ALBANY INTERNATIONAL CORP.             NY       419031   \n",
       "\n",
       "  pw_source_name_9089  year remuneration  \n",
       "0                 OES  2012       60-90k  \n",
       "1                 OES  2011       30-60k  \n",
       "2                 OES  2011       30-60k  \n",
       "3                 OES  2011        0-30k  \n",
       "4                 OES  2012      90-120k  "
      ]
     },
     "execution_count": 39,
     "metadata": {},
     "output_type": "execute_result"
    }
   ],
   "source": [
    "df.head()"
   ]
  },
  {
   "cell_type": "code",
   "execution_count": 40,
   "metadata": {},
   "outputs": [],
   "source": [
    "#df.to_csv('results.csv', index=False, header=False)"
   ]
  },
  {
   "cell_type": "code",
   "execution_count": 41,
   "metadata": {},
   "outputs": [
    {
     "name": "stdout",
     "output_type": "stream",
     "text": [
      "<class 'pandas.core.frame.DataFrame'>\n",
      "Int64Index: 356168 entries, 0 to 374353\n",
      "Data columns (total 10 columns):\n",
      "case_status               356168 non-null int64\n",
      "class_of_admission        356168 non-null int64\n",
      "country_of_citizenship    356168 non-null int64\n",
      "employer_city             356168 non-null int64\n",
      "employer_name             356168 non-null int64\n",
      "employer_state            356168 non-null int64\n",
      "pw_soc_code               356168 non-null int64\n",
      "pw_source_name_9089       356168 non-null int64\n",
      "year                      356168 non-null int64\n",
      "remuneration              356168 non-null int64\n",
      "dtypes: int64(10)\n",
      "memory usage: 39.9 MB\n"
     ]
    }
   ],
   "source": [
    "from sklearn.preprocessing import LabelEncoder\n",
    "categorical_variables = {}\n",
    "\n",
    "#Creating categories denoted by integers from column values\n",
    "for col in df.columns:\n",
    "    cat_var_name = \"cat_\"+ col\n",
    "    cat_var_name = LabelEncoder()\n",
    "    cat_var_name.fit(df[col])\n",
    "    df[col] = cat_var_name.transform(df[col])\n",
    "    categorical_variables[col] = cat_var_name\n",
    "\n",
    "df.info()"
   ]
  },
  {
   "cell_type": "code",
   "execution_count": 42,
   "metadata": {},
   "outputs": [],
   "source": [
    "df.to_csv('results_categorical.csv', index=False, header=False)"
   ]
  },
  {
   "cell_type": "code",
   "execution_count": 43,
   "metadata": {},
   "outputs": [
    {
     "name": "stdout",
     "output_type": "stream",
     "text": [
      "The shape of X is: (356168, 9)\n",
      "The shape of y is: (356168,)\n"
     ]
    }
   ],
   "source": [
    "#Dividing our final dataset into features(explanatory variables) and labels(target variable)\n",
    "X = df.loc[:, df.columns != 'case_status']\n",
    "y = df.case_status\n",
    "#X = df.drop('remuneration', axis=1, inplace=True)\n",
    "#X = df.drop('pw_soc_code', axis=1, inplace=True)\n",
    "#X = df.drop('pw_source_name_9089', axis=1, inplace=True)\n",
    "\n",
    "print(\"The shape of X is: {}\".format(X.shape))\n",
    "print(\"The shape of y is: {}\".format(y.shape))"
   ]
  },
  {
   "cell_type": "code",
   "execution_count": 44,
   "metadata": {},
   "outputs": [],
   "source": [
    "#Importing Logistic Regression Classifier, GridSearchCV, train_test_split and accuracy metrics from sklearn\n",
    "from sklearn.linear_model import LogisticRegression\n",
    "from sklearn.model_selection import GridSearchCV\n",
    "from sklearn.model_selection import train_test_split\n",
    "from sklearn.metrics import precision_score, recall_score, f1_score, confusion_matrix\n",
    "\n",
    "#Defining fit_algorithm function\n",
    "def fit_algorithm(alg, X, y, parameters, cv = 5):\n",
    "    \"\"\"\n",
    "    This function will split our dataset into training and testing subsets, fit cross-validated \n",
    "    GridSearch object, test it on the holdout set and return some statistics\n",
    "    \"\"\"\n",
    "    X_train, X_test, y_train, y_test = train_test_split(X, y, random_state = 123)\n",
    "    grid = GridSearchCV(alg, parameters, cv = cv)\n",
    "    grid.fit(X_train, y_train)\n",
    "    y_pred = grid.predict(X_test)\n",
    "    confmat = confusion_matrix(y_test,y_pred)\n",
    "\n",
    "    return pd.Series({\n",
    "        \"Train_ACC\": np.around(grid.best_score_, decimals=2).astype(str),\n",
    "        \"Test_ACC\": np.around(grid.score(X_test, y_test), decimals=2).astype(str),\n",
    "        \"P\": np.around(precision_score(y_pred, y_test), decimals=2).astype(str),\n",
    "        \"R\": np.around(recall_score(y_pred, y_test),decimals=2).astype(str),\n",
    "        \"F1\": np.around(f1_score(y_pred, y_test),decimals=2).astype(str),\n",
    "        \"Best_params\": [grid.best_params_],\n",
    "        \"True negatives\": confmat[0,0],\n",
    "        \"False negatives\": confmat[1,0],\n",
    "        \"True positives\": confmat[1,1],\n",
    "        \"False positives\": confmat[0,1]\n",
    "        })"
   ]
  },
  {
   "cell_type": "code",
   "execution_count": 45,
   "metadata": {},
   "outputs": [
    {
     "data": {
      "text/plain": [
       "Best_params        [{'C': 1}]\n",
       "F1                       0.96\n",
       "False negatives            37\n",
       "False positives          6351\n",
       "P                         1.0\n",
       "R                        0.93\n",
       "Test_ACC                 0.93\n",
       "Train_ACC                0.93\n",
       "True negatives             36\n",
       "True positives          82618\n",
       "dtype: object"
      ]
     },
     "execution_count": 45,
     "metadata": {},
     "output_type": "execute_result"
    }
   ],
   "source": [
    "#To perform hyper parameter optimisation a list of multiple elements will be entered and the optimal \n",
    "#value in that list will be picked using Grid Search object\n",
    "logreg_params = {'C': [0.001, 0.01, 0.1, 1, 10, 100] }\n",
    "\n",
    "logreg = fit_algorithm(LogisticRegression(),X,y,logreg_params)\n",
    "logreg"
   ]
  },
  {
   "cell_type": "code",
   "execution_count": 46,
   "metadata": {},
   "outputs": [
    {
     "data": {
      "text/plain": [
       "Best_params        [{'n_neighbors': 9}]\n",
       "F1                                 0.96\n",
       "False negatives                     589\n",
       "False positives                    5487\n",
       "P                                  0.99\n",
       "R                                  0.94\n",
       "Test_ACC                           0.93\n",
       "Train_ACC                          0.93\n",
       "True negatives                      900\n",
       "True positives                    82066\n",
       "dtype: object"
      ]
     },
     "execution_count": 46,
     "metadata": {},
     "output_type": "execute_result"
    }
   ],
   "source": [
    "#Importing k-Nearest Neighbors Classifier\n",
    "from sklearn.neighbors import KNeighborsClassifier\n",
    "\n",
    "#Defining range of parameters for kNN Clssifier\n",
    "knn_params = {'n_neighbors': np.arange(1,11).tolist()}\n",
    "\n",
    "#Using \"fit_algorithm\" function with kNN Classifier\n",
    "knn = fit_algorithm(KNeighborsClassifier(),X,y,knn_params)\n",
    "knn"
   ]
  },
  {
   "cell_type": "code",
   "execution_count": 47,
   "metadata": {},
   "outputs": [
    {
     "data": {
      "text/plain": [
       "Best_params        [{'max_depth': 20, 'max_features': 4, 'n_estim...\n",
       "F1                                                              0.97\n",
       "False negatives                                                  513\n",
       "False positives                                                 4954\n",
       "P                                                               0.99\n",
       "R                                                               0.94\n",
       "Test_ACC                                                        0.94\n",
       "Train_ACC                                                       0.94\n",
       "True negatives                                                  1433\n",
       "True positives                                                 82142\n",
       "dtype: object"
      ]
     },
     "execution_count": 47,
     "metadata": {},
     "output_type": "execute_result"
    }
   ],
   "source": [
    "#Defining range of parameters for Random Forest Clssifier\n",
    "forest_params = {'n_estimators': [10,20,30,40,50],\n",
    "     'max_depth': [15,20,25,30],\n",
    "     'max_features': [2,3,4],\n",
    "     'random_state': [123],\n",
    "     'n_jobs': [-1]\n",
    "    }\n",
    "    \n",
    "# #Importing RandomForestClassifier from sklearn\n",
    "from sklearn.ensemble import RandomForestClassifier\n",
    "\n",
    "forest = fit_algorithm(RandomForestClassifier(),X,y, forest_params)\n",
    "forest"
   ]
  },
  {
   "cell_type": "code",
   "execution_count": 48,
   "metadata": {},
   "outputs": [
    {
     "data": {
      "text/plain": [
       "Best_params        [{'learning_rate': 0.1, 'max_depth': 3, 'n_est...\n",
       "F1                                                              0.96\n",
       "False negatives                                                  258\n",
       "False positives                                                 5990\n",
       "P                                                                1.0\n",
       "R                                                               0.93\n",
       "Test_ACC                                                        0.93\n",
       "Train_ACC                                                       0.93\n",
       "True negatives                                                   397\n",
       "True positives                                                 82397\n",
       "dtype: object"
      ]
     },
     "execution_count": 48,
     "metadata": {},
     "output_type": "execute_result"
    }
   ],
   "source": [
    "#Importing GradientBoostingClassifier from sklearn\n",
    "from sklearn.ensemble import GradientBoostingClassifier\n",
    "\n",
    "#Defining range of parameters for Gradient Boosting Clssifier\n",
    "gradient_params = {'n_estimators': [100],\n",
    "     'max_depth': [3],\n",
    "     'random_state': [123],\n",
    "     'learning_rate': [0.1]\n",
    "    }\n",
    "\n",
    "gradient = fit_algorithm(GradientBoostingClassifier(),X,y,gradient_params)\n",
    "gradient"
   ]
  },
  {
   "cell_type": "code",
   "execution_count": 49,
   "metadata": {},
   "outputs": [
    {
     "data": {
      "text/html": [
       "<div>\n",
       "<style scoped>\n",
       "    .dataframe tbody tr th:only-of-type {\n",
       "        vertical-align: middle;\n",
       "    }\n",
       "\n",
       "    .dataframe tbody tr th {\n",
       "        vertical-align: top;\n",
       "    }\n",
       "\n",
       "    .dataframe thead th {\n",
       "        text-align: right;\n",
       "    }\n",
       "</style>\n",
       "<table border=\"1\" class=\"dataframe\">\n",
       "  <thead>\n",
       "    <tr style=\"text-align: right;\">\n",
       "      <th></th>\n",
       "      <th>Logistic Regression</th>\n",
       "      <th>k-Nearest Neighbors</th>\n",
       "      <th>Random Forest</th>\n",
       "      <th>GBoosted Machines</th>\n",
       "    </tr>\n",
       "  </thead>\n",
       "  <tbody>\n",
       "    <tr>\n",
       "      <th>Best_params</th>\n",
       "      <td>[{'C': 1}]</td>\n",
       "      <td>[{'n_neighbors': 9}]</td>\n",
       "      <td>[{'max_depth': 20, 'max_features': 4, 'n_estim...</td>\n",
       "      <td>[{'learning_rate': 0.1, 'max_depth': 3, 'n_est...</td>\n",
       "    </tr>\n",
       "    <tr>\n",
       "      <th>F1</th>\n",
       "      <td>0.96</td>\n",
       "      <td>0.96</td>\n",
       "      <td>0.97</td>\n",
       "      <td>0.96</td>\n",
       "    </tr>\n",
       "    <tr>\n",
       "      <th>False negatives</th>\n",
       "      <td>37</td>\n",
       "      <td>589</td>\n",
       "      <td>513</td>\n",
       "      <td>258</td>\n",
       "    </tr>\n",
       "    <tr>\n",
       "      <th>False positives</th>\n",
       "      <td>6351</td>\n",
       "      <td>5487</td>\n",
       "      <td>4954</td>\n",
       "      <td>5990</td>\n",
       "    </tr>\n",
       "    <tr>\n",
       "      <th>P</th>\n",
       "      <td>1.0</td>\n",
       "      <td>0.99</td>\n",
       "      <td>0.99</td>\n",
       "      <td>1.0</td>\n",
       "    </tr>\n",
       "    <tr>\n",
       "      <th>R</th>\n",
       "      <td>0.93</td>\n",
       "      <td>0.94</td>\n",
       "      <td>0.94</td>\n",
       "      <td>0.93</td>\n",
       "    </tr>\n",
       "    <tr>\n",
       "      <th>Test_ACC</th>\n",
       "      <td>0.93</td>\n",
       "      <td>0.93</td>\n",
       "      <td>0.94</td>\n",
       "      <td>0.93</td>\n",
       "    </tr>\n",
       "    <tr>\n",
       "      <th>Train_ACC</th>\n",
       "      <td>0.93</td>\n",
       "      <td>0.93</td>\n",
       "      <td>0.94</td>\n",
       "      <td>0.93</td>\n",
       "    </tr>\n",
       "    <tr>\n",
       "      <th>True negatives</th>\n",
       "      <td>36</td>\n",
       "      <td>900</td>\n",
       "      <td>1433</td>\n",
       "      <td>397</td>\n",
       "    </tr>\n",
       "    <tr>\n",
       "      <th>True positives</th>\n",
       "      <td>82618</td>\n",
       "      <td>82066</td>\n",
       "      <td>82142</td>\n",
       "      <td>82397</td>\n",
       "    </tr>\n",
       "  </tbody>\n",
       "</table>\n",
       "</div>"
      ],
      "text/plain": [
       "                Logistic Regression   k-Nearest Neighbors  \\\n",
       "Best_params              [{'C': 1}]  [{'n_neighbors': 9}]   \n",
       "F1                             0.96                  0.96   \n",
       "False negatives                  37                   589   \n",
       "False positives                6351                  5487   \n",
       "P                               1.0                  0.99   \n",
       "R                              0.93                  0.94   \n",
       "Test_ACC                       0.93                  0.93   \n",
       "Train_ACC                      0.93                  0.93   \n",
       "True negatives                   36                   900   \n",
       "True positives                82618                 82066   \n",
       "\n",
       "                                                     Random Forest  \\\n",
       "Best_params      [{'max_depth': 20, 'max_features': 4, 'n_estim...   \n",
       "F1                                                            0.97   \n",
       "False negatives                                                513   \n",
       "False positives                                               4954   \n",
       "P                                                             0.99   \n",
       "R                                                             0.94   \n",
       "Test_ACC                                                      0.94   \n",
       "Train_ACC                                                     0.94   \n",
       "True negatives                                                1433   \n",
       "True positives                                               82142   \n",
       "\n",
       "                                                 GBoosted Machines  \n",
       "Best_params      [{'learning_rate': 0.1, 'max_depth': 3, 'n_est...  \n",
       "F1                                                            0.96  \n",
       "False negatives                                                258  \n",
       "False positives                                               5990  \n",
       "P                                                              1.0  \n",
       "R                                                             0.93  \n",
       "Test_ACC                                                      0.93  \n",
       "Train_ACC                                                     0.93  \n",
       "True negatives                                                 397  \n",
       "True positives                                               82397  "
      ]
     },
     "execution_count": 49,
     "metadata": {},
     "output_type": "execute_result"
    }
   ],
   "source": [
    "# Dataframe made of results \n",
    "summary = pd.concat([logreg,knn,forest,gradient],axis=1)\n",
    "summary.columns = ['Logistic Regression', 'k-Nearest Neighbors','Random Forest','GBoosted Machines']\n",
    "summary "
   ]
  },
  {
   "cell_type": "code",
   "execution_count": 50,
   "metadata": {},
   "outputs": [
    {
     "data": {
      "image/png": "[encoded data removed]",
      "text/plain": [
       "<matplotlib.figure.Figure at 0x1a1e6b95f8>"
      ]
     },
     "metadata": {},
     "output_type": "display_data"
    }
   ],
   "source": [
    "X_train, X_test, y_train, y_test = train_test_split(X, y, random_state = 123)\n",
    "final_forest = RandomForestClassifier(n_estimators = 50, max_depth = 20, max_features = 4, random_state = 123, n_jobs = -1)\n",
    "final_forest.fit(X_train, y_train)\n",
    "importances = final_forest.feature_importances_\n",
    "std = np.std([tree.feature_importances_ for tree in final_forest.estimators_],\n",
    "             axis=0)\n",
    "indices = np.argsort(importances)[::-1]\n",
    "\n",
    "# Plot the feature importances of the forest\n",
    "plt.figure(figsize=(10, 8))\n",
    "plt.title(\"Feature importances\")\n",
    "plt.bar(range(X_train.shape[1]), importances[indices],\n",
    "       color=\"g\", yerr=std[indices], align=\"center\")\n",
    "plt.xticks(range(X_train.shape[1]), X_train.columns, rotation = 90)\n",
    "plt.xlim([-1, X_train.shape[1]])\n",
    "plt.show() "
   ]
  }
 ],
 "metadata": {
  "kernelspec": {
   "display_name": "Python 3",
   "language": "python",
   "name": "python3"
  },
  "language_info": {
   "codemirror_mode": {
    "name": "ipython",
    "version": 3
   },
   "file_extension": ".py",
   "mimetype": "text/x-python",
   "name": "python",
   "nbconvert_exporter": "python",
   "pygments_lexer": "ipython3",
   "version": "3.6.4"
  }
 },
 "nbformat": 4,
 "nbformat_minor": 2
}
